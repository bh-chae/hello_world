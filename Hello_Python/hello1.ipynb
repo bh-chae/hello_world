{
 "cells": [
  {
   "cell_type": "code",
   "execution_count": 55,
   "metadata": {},
   "outputs": [
    {
     "name": "stdout",
     "output_type": "stream",
     "text": [
      "hellow world\n",
      "False\n"
     ]
    }
   ],
   "source": [
    "print('hellow world')\n",
    "print(5==1)"
   ]
  },
  {
   "cell_type": "code",
   "execution_count": 56,
   "metadata": {},
   "outputs": [
    {
     "name": "stdout",
     "output_type": "stream",
     "text": [
      "우리집4강아지이름연탄이\n"
     ]
    }
   ],
   "source": [
    "name = \"연탄이\"\n",
    "animal = \"강아지\"\n",
    "age = 4\n",
    "hobby = \"산책\"\n",
    "is_adult = age >= 3\n",
    "\n",
    "print('우리집'+ str(age) + animal + '이름' + name)"
   ]
  },
  {
   "cell_type": "code",
   "execution_count": 57,
   "metadata": {},
   "outputs": [
    {
     "name": "stdout",
     "output_type": "stream",
     "text": [
      "사당 행 열차가 들어오고 있습니당\n"
     ]
    }
   ],
   "source": [
    "station = '사당'\n",
    "print(station, '행 열차가 들어오고 있습니당')"
   ]
  },
  {
   "cell_type": "code",
   "execution_count": 58,
   "metadata": {},
   "outputs": [
    {
     "name": "stdout",
     "output_type": "stream",
     "text": [
      "유재석\n"
     ]
    }
   ],
   "source": [
    "cabinet = {3: \"유재석\",  1000: \"김기봉\"}\n",
    "\n",
    "print(cabinet.get(3, \"사용가능\"))"
   ]
  },
  {
   "cell_type": "code",
   "execution_count": 59,
   "metadata": {},
   "outputs": [
    {
     "name": "stdout",
     "output_type": "stream",
     "text": [
      "True\n"
     ]
    }
   ],
   "source": [
    "print (3 in cabinet)"
   ]
  },
  {
   "cell_type": "code",
   "execution_count": 60,
   "metadata": {},
   "outputs": [
    {
     "name": "stdout",
     "output_type": "stream",
     "text": [
      "유재석\n",
      "김태호\n"
     ]
    }
   ],
   "source": [
    "# key 는 정수형이 아닌 문자열도 가능\n",
    "cabinet = {\"A-3\": \"유재석\", \"B-100\": \"김태호\"}\n",
    "print(cabinet[\"A-3\"]) # 유재석\n",
    "print(cabinet[\"B-100\"]) # 김태호"
   ]
  },
  {
   "cell_type": "code",
   "execution_count": 61,
   "metadata": {},
   "outputs": [
    {
     "name": "stdout",
     "output_type": "stream",
     "text": [
      "{'A-3': '유재석', 'B-100': '김태호'}\n",
      "{'A-3': '김종국', 'B-100': '김태호', 'C-20': '조세호'}\n"
     ]
    }
   ],
   "source": [
    "print(cabinet) # {'A-3': '유재석', 'B-100': '김태호'}\n",
    "cabinet[\"A-3\"] = \"김종국\" # key 에 해당하는 값이 있는 경우 업데이트\n",
    "cabinet[\"C-20\"] = \"조세호\" # key 에 해당하는 값이 없는 경우 신규 추가\n",
    "print(cabinet) # {'A-3': '김종국', 'B-100': '김태호', 'C-20': '조세호'}"
   ]
  },
  {
   "cell_type": "code",
   "execution_count": 62,
   "metadata": {},
   "outputs": [
    {
     "name": "stdout",
     "output_type": "stream",
     "text": [
      "{'B-100': '김태호', 'C-20': '조세호'}\n"
     ]
    }
   ],
   "source": [
    "del cabinet[\"A-3\"] # key \"A-3\" 에 해당하는 데이터 삭제\n",
    "print(cabinet) # {'B-100': '김태호', 'C-20': '조세호'}"
   ]
  },
  {
   "cell_type": "code",
   "execution_count": 63,
   "metadata": {},
   "outputs": [
    {
     "name": "stdout",
     "output_type": "stream",
     "text": [
      "dict_keys(['B-100', 'C-20'])\n"
     ]
    }
   ],
   "source": [
    "print(cabinet.keys()) # dict_keys(['B-100', 'C-20'])\n"
   ]
  },
  {
   "cell_type": "code",
   "execution_count": 64,
   "metadata": {},
   "outputs": [
    {
     "name": "stdout",
     "output_type": "stream",
     "text": [
      "dict_items([('B-100', '김태호'), ('C-20', '조세호')])\n"
     ]
    }
   ],
   "source": [
    "print(cabinet.items()) # dict_items([('B-100', '김태호'), ('C-20', '조세호')])\n"
   ]
  },
  {
   "cell_type": "code",
   "execution_count": 65,
   "metadata": {},
   "outputs": [
    {
     "name": "stdout",
     "output_type": "stream",
     "text": [
      "{}\n"
     ]
    }
   ],
   "source": [
    "cabinet.clear()\n",
    "print(cabinet) # {}"
   ]
  },
  {
   "cell_type": "code",
   "execution_count": 66,
   "metadata": {},
   "outputs": [
    {
     "name": "stdout",
     "output_type": "stream",
     "text": [
      "돈까스\n",
      "치즈까스\n"
     ]
    }
   ],
   "source": [
    "menu = (\"돈까스\", \"치즈까스\")\n",
    "print(menu[0]) # 돈까스\n",
    "print(menu[1]) # 치즈까스"
   ]
  },
  {
   "cell_type": "code",
   "execution_count": 67,
   "metadata": {},
   "outputs": [
    {
     "name": "stdout",
     "output_type": "stream",
     "text": [
      "김종국 20 코딩\n"
     ]
    }
   ],
   "source": [
    "name = \"김종국\"\n",
    "age = 20\n",
    "hobby = \"코딩\"\n",
    "print(name, age, hobby) # 김종국 20 코딩"
   ]
  },
  {
   "cell_type": "code",
   "execution_count": 68,
   "metadata": {},
   "outputs": [
    {
     "name": "stdout",
     "output_type": "stream",
     "text": [
      "{1, 2, 3, 4}\n"
     ]
    }
   ],
   "source": [
    "my_set = {1,2,3,4,4}\n",
    "print(my_set)"
   ]
  },
  {
   "cell_type": "code",
   "execution_count": 69,
   "metadata": {},
   "outputs": [],
   "source": [
    "java = {\"유재석\", \"김태호\" , \"양세형\"}\n",
    "python = set([\"유재석\", \"박명수\"])"
   ]
  },
  {
   "cell_type": "code",
   "execution_count": 70,
   "metadata": {},
   "outputs": [
    {
     "name": "stdout",
     "output_type": "stream",
     "text": [
      "{'유재석'}\n"
     ]
    }
   ],
   "source": [
    "print(java & python)"
   ]
  },
  {
   "cell_type": "code",
   "execution_count": 71,
   "metadata": {},
   "outputs": [
    {
     "name": "stdout",
     "output_type": "stream",
     "text": [
      "{'유재석'}\n"
     ]
    }
   ],
   "source": [
    "print(java.intersection(python))"
   ]
  },
  {
   "cell_type": "code",
   "execution_count": 72,
   "metadata": {},
   "outputs": [
    {
     "name": "stdout",
     "output_type": "stream",
     "text": [
      "{'양세형', '유재석', '김태호', '박명수'}\n"
     ]
    }
   ],
   "source": [
    "print(java | python) # {'박명수', '유재석', '김태호', '양세형'}\n"
   ]
  },
  {
   "cell_type": "code",
   "execution_count": 73,
   "metadata": {},
   "outputs": [
    {
     "name": "stdout",
     "output_type": "stream",
     "text": [
      "{'Milk', 'juice', 'coffee'} <class 'set'>\n"
     ]
    }
   ],
   "source": [
    "menu = {\"coffee\", \"Milk\", \"juice\"}\n",
    "print (menu, type(menu))"
   ]
  },
  {
   "cell_type": "code",
   "execution_count": 74,
   "metadata": {},
   "outputs": [
    {
     "name": "stdout",
     "output_type": "stream",
     "text": [
      "['Milk', 'juice', 'coffee'] <class 'list'>\n"
     ]
    }
   ],
   "source": [
    "menu = list(menu)\n",
    "print(menu, type(menu))"
   ]
  },
  {
   "cell_type": "code",
   "execution_count": 75,
   "metadata": {},
   "outputs": [
    {
     "name": "stdout",
     "output_type": "stream",
     "text": [
      "range(1, 21)\n",
      "--당첨자 발표--\n",
      "치킨 당첨자 : 7 \n",
      "커피 당첨자 : [[10, 18, 17]])\n"
     ]
    }
   ],
   "source": [
    "#quiz 5\n",
    "from random import *\n",
    "lst = range(1, 21)\n",
    "print(lst)\n",
    "cell = sample(lst, 4)\n",
    "print(\"--당첨자 발표--\\n치킨 당첨자 : {0} \\n커피 당첨자 : [{1}])\".format(cell[0], cell[1:]))"
   ]
  },
  {
   "cell_type": "code",
   "execution_count": 76,
   "metadata": {},
   "outputs": [
    {
     "name": "stdout",
     "output_type": "stream",
     "text": [
      "우산 챙겨라\n"
     ]
    }
   ],
   "source": [
    "weather = \"비\"\n",
    "\n",
    "if weather == \"비\" : \n",
    "    print(\"우산 챙겨라\")"
   ]
  },
  {
   "cell_type": "code",
   "execution_count": 77,
   "metadata": {},
   "outputs": [
    {
     "name": "stdout",
     "output_type": "stream",
     "text": [
      "마스크를 챙기세요\n"
     ]
    }
   ],
   "source": [
    "weather = \"미세먼지\"\n",
    "\n",
    "if weather == \"비\":\n",
    "    print(\"우산을 챙기세요\") # 1번\n",
    "elif weather == \"미세먼지\":\n",
    "    print(\"마스크를 챙기세요\") # 2번"
   ]
  },
  {
   "cell_type": "code",
   "execution_count": 78,
   "metadata": {},
   "outputs": [
    {
     "name": "stdout",
     "output_type": "stream",
     "text": [
      "준비물 없이 go\n"
     ]
    }
   ],
   "source": [
    "weather = \"맑아요\"\n",
    "\n",
    "if weather == \"비\":\n",
    "    print(\"우산을 챙기세요\") # 1번\n",
    "elif weather == \"미세먼지\":\n",
    "    print(\"마스크를 챙기세요\") # 2번\n",
    "else :\n",
    "    print(\"준비물 없이 go\")"
   ]
  },
  {
   "cell_type": "code",
   "execution_count": 79,
   "metadata": {},
   "outputs": [
    {
     "name": "stdout",
     "output_type": "stream",
     "text": [
      "nothing\n"
     ]
    }
   ],
   "source": [
    "weather = input(\"How is the Weather?\")\n",
    "\n",
    "if weather == \"비\" or weather == \"눈\" :\n",
    "    print(\"우산\")\n",
    "elif weather == \"미세먼지\" :\n",
    "    print(\"Mask\")\n",
    "else :\n",
    "    print(\"nothing\")"
   ]
  },
  {
   "cell_type": "code",
   "execution_count": 80,
   "metadata": {},
   "outputs": [
    {
     "name": "stdout",
     "output_type": "stream",
     "text": [
      "It's so Hot, Don't go out\n"
     ]
    }
   ],
   "source": [
    "temp = int(input(\"How is the Temperature?\"))\n",
    "\n",
    "if 30 <= temp :\n",
    "    print(\"It's so Hot, Don't go out\")\n",
    "elif 10 <= temp and temp < 30 :\n",
    "    print(\"It's So good to walkout\")\n",
    "elif 0 <= temp < 10 :\n",
    "    print(\"Take your Coat\")\n",
    "else :\n",
    "    print(\"It's So Cold Don't go out\")"
   ]
  },
  {
   "cell_type": "code",
   "execution_count": 81,
   "metadata": {},
   "outputs": [
    {
     "name": "stdout",
     "output_type": "stream",
     "text": [
      "wating number : 0\n",
      "wating number : 1\n",
      "wating number : 2\n",
      "wating number : 3\n",
      "wating number : 4\n",
      "wating number : 1\n",
      "wating number : 2\n",
      "wating number : 3\n",
      "wating number : 4\n",
      "wating number : 5\n",
      "iron man, Here is your coffee\n",
      "Thor, Here is your coffee\n",
      "I am grout, Here is your coffee\n"
     ]
    }
   ],
   "source": [
    "#6-2\n",
    "for wating in range(5) :\n",
    "        print(\"wating number : {0}\".format(wating))\n",
    "\n",
    "for wating in range(1,6) :\n",
    "        print(\"wating number : {0}\".format(wating))\n",
    "\n",
    "starbucks = [\"iron man\", \"Thor\", \"I am grout\"]\n",
    "for customer in starbucks:\n",
    "    print(\"{0}, Here is your coffee\".format(customer))"
   ]
  },
  {
   "cell_type": "code",
   "execution_count": 82,
   "metadata": {},
   "outputs": [
    {
     "name": "stdout",
     "output_type": "stream",
     "text": [
      "Thor, Here is your coffe. 5 is wating\n",
      "Thor, Here is your coffe. 4 is wating\n",
      "Thor, Here is your coffe. 3 is wating\n",
      "Thor, Here is your coffe. 2 is wating\n",
      "Thor, Here is your coffe. 1 is wating\n",
      "Coffee were Breakout\n"
     ]
    }
   ],
   "source": [
    "#6-3 While\n",
    "\n",
    "customer = \"Thor\"\n",
    "index = 5\n",
    "\n",
    "while index >= 1 :\n",
    "    print(\"{0}, Here is your coffe. {1} is wating\".format(customer, index))\n",
    "    index -= 1\n",
    "    if index == 0 :\n",
    "        print(\"Coffee were Breakout\")"
   ]
  },
  {
   "cell_type": "code",
   "execution_count": 83,
   "metadata": {},
   "outputs": [],
   "source": [
    "customer = \"아이언맨\"\n",
    "index = 1\n",
    "while False :\n",
    "    print(\"{0}, 커피가 준비 되었다. 호출 {1} 회\".format(customer, index))\n",
    "    index += -1"
   ]
  },
  {
   "cell_type": "code",
   "execution_count": 85,
   "metadata": {},
   "outputs": [
    {
     "name": "stdout",
     "output_type": "stream",
     "text": [
      "1, read the book\n",
      "3, read the book\n",
      "4, read the book\n",
      "6, read the book\n",
      "7, read the book\n",
      "8, read the book\n",
      "9, read the book\n",
      "10, read the book\n"
     ]
    }
   ],
   "source": [
    "#6-4 Continue & break\n",
    "\n",
    "absent = [2, 5]\n",
    "\n",
    "for student in range (1, 11):\n",
    "    if student in absent:\n",
    "        continue\n",
    "    print(\"{0}, read the book\".format(student))"
   ]
  },
  {
   "cell_type": "code",
   "execution_count": 86,
   "metadata": {},
   "outputs": [
    {
     "name": "stdout",
     "output_type": "stream",
     "text": [
      "1, read the book\n",
      "3, read the book\n",
      "4, read the book\n",
      "6, read the book\n",
      "7, read the book\n",
      "오늘은 여기까지. 8는 coming gyomusil?\n"
     ]
    }
   ],
   "source": [
    "absent = [2, 5] \n",
    "no_book = [8]\n",
    "\n",
    "for student in range (1, 11):\n",
    "    if student in absent:\n",
    "        continue\n",
    "    elif student in no_book : \n",
    "        print (\"오늘은 여기까지. {0}는 coming gyomusil?\".format(student))\n",
    "        break\n",
    "    print(\"{0}, read the book\".format(student))"
   ]
  },
  {
   "cell_type": "code",
   "execution_count": 90,
   "metadata": {},
   "outputs": [
    {
     "name": "stdout",
     "output_type": "stream",
     "text": [
      "[1, 2, 3, 4, 5]\n",
      "[101, 102, 103, 104, 105]\n"
     ]
    }
   ],
   "source": [
    "#6-5\n",
    "student = list(range(1,6))\n",
    "print(student)\n",
    "\n",
    "student = [i + 100 for i in student]\n",
    "print(student)\n"
   ]
  },
  {
   "cell_type": "code",
   "execution_count": 93,
   "metadata": {},
   "outputs": [
    {
     "name": "stdout",
     "output_type": "stream",
     "text": [
      "['Iron man', 'Thor', 'I am Groot']\n",
      "[8, 4, 10]\n"
     ]
    }
   ],
   "source": [
    "students = [\"Iron man\", \"Thor\", \"I am Groot\"]\n",
    "print(students)\n",
    "\n",
    "students = [len(i) for i in students]\n",
    "print(students)"
   ]
  },
  {
   "cell_type": "code",
   "execution_count": 94,
   "metadata": {},
   "outputs": [
    {
     "name": "stdout",
     "output_type": "stream",
     "text": [
      "['Iron man', 'Thor', 'Ant man', 'I am Groot']\n",
      "['IRON MAN', 'THOR', 'ANT MAN', 'I AM GROOT']\n"
     ]
    }
   ],
   "source": [
    "students  = [\"Iron man\", \"Thor\", \"Ant man\", \"I am Groot\"]\n",
    "print(students)\n",
    "\n",
    "students = [i.upper() for i in students]\n",
    "print(students)"
   ]
  },
  {
   "cell_type": "code",
   "execution_count": 146,
   "metadata": {},
   "outputs": [
    {
     "name": "stdout",
     "output_type": "stream",
     "text": [
      "[] 1번째 손님 (소요시간 : 29 분)\n",
      "[O] 2번째 손님 (소요시간 : 9 분)\n",
      "[O] 3번째 손님 (소요시간 : 9 분)\n",
      "[] 4번째 손님 (소요시간 : 32 분)\n",
      "[] 5번째 손님 (소요시간 : 39 분)\n",
      "[] 6번째 손님 (소요시간 : 42 분)\n",
      "[] 7번째 손님 (소요시간 : 45 분)\n",
      "[] 8번째 손님 (소요시간 : 19 분)\n",
      "[] 9번째 손님 (소요시간 : 25 분)\n",
      "[] 10번째 손님 (소요시간 : 46 분)\n",
      "[O] 11번째 손님 (소요시간 : 6 분)\n",
      "[] 12번째 손님 (소요시간 : 26 분)\n",
      "[] 13번째 손님 (소요시간 : 44 분)\n",
      "[] 14번째 손님 (소요시간 : 30 분)\n",
      "[] 15번째 손님 (소요시간 : 26 분)\n",
      "[] 16번째 손님 (소요시간 : 26 분)\n",
      "[] 17번째 손님 (소요시간 : 39 분)\n",
      "[] 18번째 손님 (소요시간 : 41 분)\n",
      "[O] 19번째 손님 (소요시간 : 11 분)\n",
      "[O] 20번째 손님 (소요시간 : 15 분)\n",
      "[] 21번째 손님 (소요시간 : 16 분)\n",
      "[] 22번째 손님 (소요시간 : 41 분)\n",
      "[] 23번째 손님 (소요시간 : 36 분)\n",
      "[O] 24번째 손님 (소요시간 : 13 분)\n",
      "[O] 25번째 손님 (소요시간 : 14 분)\n",
      "[] 26번째 손님 (소요시간 : 40 분)\n",
      "[O] 27번째 손님 (소요시간 : 11 분)\n",
      "[] 28번째 손님 (소요시간 : 41 분)\n",
      "[] 29번째 손님 (소요시간 : 50 분)\n",
      "[] 30번째 손님 (소요시간 : 19 분)\n",
      "[] 31번째 손님 (소요시간 : 47 분)\n",
      "[O] 32번째 손님 (소요시간 : 13 분)\n",
      "[] 33번째 손님 (소요시간 : 26 분)\n",
      "[] 34번째 손님 (소요시간 : 26 분)\n",
      "[] 35번째 손님 (소요시간 : 50 분)\n",
      "[] 36번째 손님 (소요시간 : 29 분)\n",
      "[] 37번째 손님 (소요시간 : 16 분)\n",
      "[] 38번째 손님 (소요시간 : 29 분)\n",
      "[] 39번째 손님 (소요시간 : 41 분)\n",
      "[] 40번째 손님 (소요시간 : 50 분)\n",
      "[] 41번째 손님 (소요시간 : 22 분)\n",
      "[] 42번째 손님 (소요시간 : 24 분)\n",
      "[] 43번째 손님 (소요시간 : 24 분)\n",
      "[] 44번째 손님 (소요시간 : 27 분)\n",
      "[] 45번째 손님 (소요시간 : 21 분)\n",
      "[] 46번째 손님 (소요시간 : 40 분)\n",
      "[O] 47번째 손님 (소요시간 : 5 분)\n",
      "[O] 48번째 손님 (소요시간 : 7 분)\n",
      "[] 49번째 손님 (소요시간 : 40 분)\n",
      "[O] 50번째 손님 (소요시간 : 9 분)\n",
      "총 탑승 승객 = 12\n"
     ]
    }
   ],
   "source": [
    "#Quiz 6\n",
    "from random import * \n",
    "\n",
    "count = 0\n",
    "for i in range(1, 51):\n",
    "    caff = randrange(5, 51)\n",
    "    raff = \" \"\n",
    "    if caff >=5 and caff <= 15 : \n",
    "        raff=\"O\"\n",
    "        count += 1\n",
    "    print(\"[{0}] {1}번째 손님 (소요시간 : {2} 분)\".format(raff, i, caff))\n",
    "print(\"총 탑승 승객 = {0}\".format(count))"
   ]
  },
  {
   "cell_type": "code",
   "execution_count": 147,
   "metadata": {},
   "outputs": [
    {
     "name": "stdout",
     "output_type": "stream",
     "text": [
      "New Account was Open\n"
     ]
    }
   ],
   "source": [
    "#7-1 함수\n",
    "def open_count():\n",
    "    print(\"New Account was Open\")\n",
    "\n",
    "open_count()"
   ]
  },
  {
   "cell_type": "code",
   "execution_count": 148,
   "metadata": {},
   "outputs": [
    {
     "name": "stdout",
     "output_type": "stream",
     "text": [
      "Deposit was Complete. Balance : 1412 $\n",
      "1412\n"
     ]
    }
   ],
   "source": [
    "#7-2 전달값과 반환값\n",
    "def deposit(balance, money):\n",
    "    print(\"Deposit was Complete. Balance : {0} $\".format(balance + money))\n",
    "    return balance + money\n",
    "\n",
    "balance = 412\n",
    "balance = deposit(balance, 1000)\n",
    "print(balance)"
   ]
  },
  {
   "cell_type": "code",
   "execution_count": 150,
   "metadata": {},
   "outputs": [
    {
     "name": "stdout",
     "output_type": "stream",
     "text": [
      "Deposit was Complete. Balance : 11230 $\n",
      "Withdraw Was Failed. balance is 11230\n",
      "withdraw was complete. balance is 10810$\n",
      "10810\n"
     ]
    }
   ],
   "source": [
    "def withdraw(balance, money):\n",
    "    if balance >= money:\n",
    "        print(\"withdraw was complete. balance is {0}$\".format(balance - money))\n",
    "        return balance - money\n",
    "    else : \n",
    "        print(\"Withdraw Was Failed. balance is {0}\".format(balance))\n",
    "        return balance\n",
    "\n",
    "balance = 1030\n",
    "balance = deposit(balance, 10200)\n",
    "\n",
    "balance = withdraw(balance, 500000)\n",
    "balance = withdraw(balance, 420)\n",
    "print(balance)"
   ]
  },
  {
   "cell_type": "code",
   "execution_count": 151,
   "metadata": {},
   "outputs": [
    {
     "name": "stdout",
     "output_type": "stream",
     "text": [
      "Deposit was Complete. Balance : 1549 $\n",
      "commision 100, balance : 949\n"
     ]
    }
   ],
   "source": [
    "def withdraw_night(balance, moeney) :\n",
    "    commission = 100\n",
    "    return commission, balance - moeney - commission\n",
    "\n",
    "balance = 1400\n",
    "balance = deposit(balance, 149)\n",
    "\n",
    "commission, balance = withdraw_night(balance, 500)\n",
    "print(\"commision {0}, balance : {1}\".format(commission, balance))"
   ]
  },
  {
   "cell_type": "code",
   "execution_count": 155,
   "metadata": {},
   "outputs": [
    {
     "name": "stdout",
     "output_type": "stream",
     "text": [
      "Name : 유재석 \tAge : 17 \tMain Langauge : Python\n",
      "Name : 김태호 \tAge : 23 \tMain Langauge : JAVA\n"
     ]
    }
   ],
   "source": [
    "#7-3 Default \n",
    "def profile(name, age=17, main_lang=\"Python\"):\n",
    "    print(\"Name : {0} \\tAge : {1} \\tMain Langauge : {2}\".format(name, age, main_lang))\n",
    "\n",
    "profile(\"유재석\")\n",
    "profile(\"김태호\", 23,\"JAVA\")"
   ]
  },
  {
   "cell_type": "code",
   "execution_count": 158,
   "metadata": {},
   "outputs": [
    {
     "name": "stdout",
     "output_type": "stream",
     "text": [
      "Name : 유재석 \tAge : 17 \tMain Langauge : Python\n",
      "Name : 김태호 \tAge : 17 \tMain Langauge : JAVA\n",
      "Name : 유재석3 \tAge : 20 \tMain Langauge : 파이썬\n",
      "Name : 김태후 \tAge : 25 \tMain Langauge : 자바\n"
     ]
    }
   ],
   "source": [
    "#7-4 Keyword Parameter\n",
    "def profile(name, age=17, main_lang=\"Python\"):\n",
    "    print(\"Name : {0} \\tAge : {1} \\tMain Langauge : {2}\".format(name, age, main_lang))\n",
    "\n",
    "profile(\"유재석\")\n",
    "profile(name = \"김태호\", main_lang=\"JAVA\")\n",
    "profile(\"유재석3\", main_lang=\"파이썬\", age=20)\n",
    "profile(main_lang=\"자바\", age=25, name=\"김태후\")"
   ]
  },
  {
   "cell_type": "code",
   "execution_count": 160,
   "metadata": {},
   "outputs": [
    {
     "name": "stdout",
     "output_type": "stream",
     "text": [
      "name : 유재석\tAge : 20\tLanguage :  Python Java C C++ C# JavaScript \n",
      "name : 김태호\tAge : 25\tLanguage :  Kotlin Swift \n"
     ]
    }
   ],
   "source": [
    "#7-5 Variadic Argument(가변인자)\n",
    "\n",
    "def profile(name, age, *language) :\n",
    "    print(\"name : {0}\\tAge : {1}\\tLanguage : \".format(name, age), end =\" \")\n",
    "    for lang in language:\n",
    "        print(lang, end=\" \")\n",
    "    print()\n",
    "\n",
    "profile(\"유재석\", 20, \"Python\", \"Java\", \"C\", \"C++\", \"C#\", \"JavaScript\") # JavaScript 추가\n",
    "profile(\"김태호\", 25, \"Kotlin\", \"Swift\")\n",
    "\n"
   ]
  },
  {
   "cell_type": "code",
   "execution_count": 163,
   "metadata": {},
   "outputs": [
    {
     "name": "stdout",
     "output_type": "stream",
     "text": [
      "Total Gun : 10\n",
      "[함수내] 남은 총 : 8\n",
      "Remain Gun : 8\n"
     ]
    }
   ],
   "source": [
    "#7-6 Local Value & Global Value\n",
    "\n",
    "gun = 10\n",
    "\n",
    "def checkpoint(soldiers) :\n",
    "    global gun\n",
    "    gun = gun - soldiers\n",
    "    print(\"[함수내] 남은 총 : {0}\".format(gun))\n",
    "\n",
    "print(\"Total Gun : {0}\".format(gun))\n",
    "checkpoint(2)\n",
    "print(\"Remain Gun : {0}\".format(gun))\n"
   ]
  },
  {
   "cell_type": "code",
   "execution_count": 164,
   "metadata": {},
   "outputs": [
    {
     "name": "stdout",
     "output_type": "stream",
     "text": [
      "Total Gun = 10\n",
      "[In Function] Remain Gun = 8\n",
      "Remain Gun = 8\n"
     ]
    }
   ],
   "source": [
    "gun = 10\n",
    "\n",
    "def checkpoint_ret(gun, soldier):\n",
    "    gun = gun - soldier\n",
    "    print(\"[In Function] Remain Gun = {0}\".format(gun))\n",
    "    return gun\n",
    "\n",
    "print(\"Total Gun = {0}\".format(gun))\n",
    "gun = checkpoint_ret(gun, 2)\n",
    "print(\"Remain Gun = {0}\".format(gun))"
   ]
  },
  {
   "cell_type": "code",
   "execution_count": 170,
   "metadata": {},
   "outputs": [
    {
     "name": "stdout",
     "output_type": "stream",
     "text": [
      "키 174cm 남자의 표준 체중은 66.61kg 입니다.\n",
      "키 166cm 여자의 표준 체중은 57.87kg 입니다.\n"
     ]
    }
   ],
   "source": [
    "#Quiz 7\n",
    "\n",
    "def std_weight(height, gender):\n",
    "    weight = 0\n",
    "    if gender == 1 : \n",
    "        weight = height*height*22\n",
    "        gender_str = \"남\"\n",
    "    elif gender == 2 :\n",
    "        weight = height*height*21\n",
    "        gender_str = \"여\"\n",
    "    print(\"키 {0}cm {1}자의 표준 체중은 {2}kg 입니다.\".format(round(height*100), gender_str, round(weight,2)))\n",
    "\n",
    "\n",
    "std_weight(1.74, 1)\n",
    "std_weight(1.66, 2)"
   ]
  },
  {
   "cell_type": "code",
   "execution_count": 171,
   "metadata": {},
   "outputs": [
    {
     "name": "stdout",
     "output_type": "stream",
     "text": [
      "Python, JAVA?"
     ]
    }
   ],
   "source": [
    "#8-1 Standard Input Output\n",
    "print(\"Python\", \"JAVA\", sep=\", \", end=\"?\")"
   ]
  },
  {
   "cell_type": "code",
   "execution_count": 173,
   "metadata": {},
   "outputs": [
    {
     "name": "stdout",
     "output_type": "stream",
     "text": [
      "Math    :   0\n",
      "Eng     :  50\n",
      "Coding  : 100\n"
     ]
    }
   ],
   "source": [
    "score = {\"Math\" : 0, \"Eng\" : 50, \"Coding\" : 100}\n",
    "for subject, score in score.items():\n",
    "    print(subject.ljust(8), str(score).rjust(4), sep=':')"
   ]
  },
  {
   "cell_type": "code",
   "execution_count": 174,
   "metadata": {},
   "outputs": [
    {
     "name": "stdout",
     "output_type": "stream",
     "text": [
      "Waiting : 001\n",
      "Waiting : 002\n",
      "Waiting : 003\n",
      "Waiting : 004\n",
      "Waiting : 005\n"
     ]
    }
   ],
   "source": [
    "for num in range(1, 6):\n",
    "    print(\"Waiting : \" + str(num).zfill(3))"
   ]
  },
  {
   "cell_type": "code",
   "execution_count": 186,
   "metadata": {},
   "outputs": [
    {
     "name": "stdout",
     "output_type": "stream",
     "text": [
      "       499\n",
      "     +4219\n",
      "142_______\n",
      "100,000,000,000\n",
      "+10,000,213,040,200\n",
      "2.500000\n",
      "1.67\n"
     ]
    }
   ],
   "source": [
    "#8-2 Variety Output Format\n",
    "\n",
    "print(\"{0:>10}\".format(499)) #빈 자리는 비워두고, 우측정렬, 10칸 공간확보\n",
    "print(\"{0: >+10}\".format(4219)) #빈 자리는 비워두고, 우측정렬, + 기호, 10칸 공간확보\n",
    "print(\"{0:_<10}\".format(142)) # 빈자리 _, 좌측정렬, 10칸 확보\n",
    "print(\"{0:,}\".format(100000000000)) # 3자리 마다 콤마 \n",
    "print(\"{0:+,}\".format(10000213040200)) # +기호, 3자리 콤마\n",
    "print(\"{0:f}\".format(5/2)) # 실수 값 출력\n",
    "print(\"{0:.2f}\".format(5/3)) # 소수점 2번째 까지 출력\n",
    "# {인덱스:[[빈자리채우기]정렬][기호][확보공간][콤마][.자릿수][타입]}\n"
   ]
  },
  {
   "cell_type": "code",
   "execution_count": 187,
   "metadata": {},
   "outputs": [],
   "source": [
    "#8-3 File I/O\n",
    "\n",
    "score_file = open(\"score.txt\", \"w\", encoding = \"utf8\")\n",
    "print(\"Math : 0\", file=score_file)\n",
    "print(\"English : 50\", file=score_file)\n",
    "score_file.close()\n"
   ]
  },
  {
   "cell_type": "code",
   "execution_count": 189,
   "metadata": {},
   "outputs": [],
   "source": [
    "score_file = open(\"score.txt\", \"a\", encoding=\"utf8\")\n",
    "score_file.write(\"Science : 80\")\n",
    "score_file.write(\"\\nCoding : 100\")\n",
    "score_file.close()"
   ]
  },
  {
   "cell_type": "code",
   "execution_count": 190,
   "metadata": {},
   "outputs": [
    {
     "name": "stdout",
     "output_type": "stream",
     "text": [
      "Math : 0\n",
      "English : 50\n",
      "Science : 80\n",
      "Coding : 100\n"
     ]
    }
   ],
   "source": [
    "score_file = open(\"score.txt\", \"r\", encoding=\"utf8\")\n",
    "print(score_file.read())\n",
    "score_file.close()"
   ]
  },
  {
   "cell_type": "code",
   "execution_count": 191,
   "metadata": {},
   "outputs": [
    {
     "name": "stdout",
     "output_type": "stream",
     "text": [
      "Math : 0\n",
      "English : 50\n",
      "Science : 80\n",
      "Coding : 100"
     ]
    }
   ],
   "source": [
    "score_file = open(\"score.txt\", \"r\", encoding=\"utf8\")\n",
    "print(score_file.readline(), end=\"\")\n",
    "print(score_file.readline(), end=\"\")\n",
    "print(score_file.readline(), end=\"\")\n",
    "print(score_file.readline(), end=\"\")\n",
    "score_file.close()"
   ]
  },
  {
   "cell_type": "code",
   "execution_count": 192,
   "metadata": {},
   "outputs": [
    {
     "name": "stdout",
     "output_type": "stream",
     "text": [
      "Math : 0\n",
      "English : 50\n",
      "Science : 80\n",
      "Coding : 100"
     ]
    }
   ],
   "source": [
    "score_file=open(\"score.txt\", \"r\", encoding=\"utf8\")\n",
    "\n",
    "while True :\n",
    "    line = score_file.readline()\n",
    "    if not line :\n",
    "        break\n",
    "    print(line, end=\"\")\n",
    "\n",
    "score_file.close()"
   ]
  },
  {
   "cell_type": "code",
   "execution_count": 194,
   "metadata": {},
   "outputs": [
    {
     "name": "stdout",
     "output_type": "stream",
     "text": [
      "Math : 0\n",
      "English : 50\n",
      "Science : 80\n",
      "Coding : 100"
     ]
    }
   ],
   "source": [
    "score_file = open(\"score.txt\", \"r\", encoding=\"utf8\")\n",
    "\n",
    "lines = score_file.readlines()\n",
    "for line in lines:\n",
    "    print(line, end=\"\")\n",
    "\n",
    "score_file.close()"
   ]
  },
  {
   "cell_type": "code",
   "execution_count": 195,
   "metadata": {},
   "outputs": [
    {
     "name": "stdout",
     "output_type": "stream",
     "text": [
      "{'name': 'MeyongSoo Park', 'Age': 30, 'Hobby': ['Soccer', 'Golf', 'Coding']}\n"
     ]
    }
   ],
   "source": [
    "#8-4 pickle\n",
    "\n",
    "import pickle\n",
    "\n",
    "profile_file = open(\"profile.pickle\", \"wb\") #wb : write binary file \n",
    "profile = {\"name\" : \"MeyongSoo Park\", \"Age\" : 30, \"Hobby\" : [\"Soccer\", \"Golf\", \"Coding\"]}\n",
    "print(profile)\n",
    "\n",
    "pickle.dump(profile, profile_file) #profile Data를 File에 저장\n",
    "profile_file.close()\n",
    "\n"
   ]
  },
  {
   "cell_type": "code",
   "execution_count": 197,
   "metadata": {},
   "outputs": [
    {
     "name": "stdout",
     "output_type": "stream",
     "text": [
      "{'name': 'MeyongSoo Park', 'Age': 30, 'Hobby': ['Soccer', 'Golf', 'Coding']}\n"
     ]
    }
   ],
   "source": [
    "profile_file = open(\"profile.pickle\", \"rb\")\n",
    "profile = pickle.load(profile_file)\n",
    "\n",
    "print(profile)\n",
    "profile_file.close()"
   ]
  },
  {
   "cell_type": "code",
   "execution_count": 198,
   "metadata": {},
   "outputs": [
    {
     "name": "stdout",
     "output_type": "stream",
     "text": [
      "{'name': 'MeyongSoo Park', 'Age': 30, 'Hobby': ['Soccer', 'Golf', 'Coding']}\n"
     ]
    }
   ],
   "source": [
    "#8-5 With : Close()를 쓰지 않고도 자동으로 닫아주는 명령어\n",
    "\n",
    "import pickle\n",
    "\n",
    "with open(\"profile.pickle\", \"rb\") as profile_file:\n",
    "    print(pickle.load(profile_file))\n"
   ]
  },
  {
   "cell_type": "code",
   "execution_count": 199,
   "metadata": {},
   "outputs": [],
   "source": [
    "with open(\"study.txt\", \"w\", encoding=\"utf8\") as study_file:\n",
    "    study_file.write(\"Studing Python!!!!\")\n"
   ]
  },
  {
   "cell_type": "code",
   "execution_count": 200,
   "metadata": {},
   "outputs": [
    {
     "name": "stdout",
     "output_type": "stream",
     "text": [
      "Studing Python!!!!\n"
     ]
    }
   ],
   "source": [
    "with open(\"study.txt\", \"r\", encoding=\"utf8\") as study_file:\n",
    "    print(study_file.read())"
   ]
  },
  {
   "cell_type": "code",
   "execution_count": 201,
   "metadata": {},
   "outputs": [],
   "source": [
    "for i in range(1, 11):\n",
    "    with open(\"{0}주차.txt\".format(i), \"w\", encoding=\"utf8\") as summary_file:\n",
    "        summary_file.write(\"-{0} 주차 주간보고 - \\n부서 : \\n이름 : \\n업무요약 : \".format(i))"
   ]
  },
  {
   "cell_type": "code",
   "execution_count": 202,
   "metadata": {},
   "outputs": [
    {
     "name": "stdout",
     "output_type": "stream",
     "text": [
      "Marin Unit was Created\n",
      "체력 40, 공격력 5 \n",
      "\n"
     ]
    }
   ],
   "source": [
    "#9-1 Class (객체지향 : Object Oriented Programming)\n",
    "\n",
    "# 마린 : 공격 유닛, 군인, 총 쏨\n",
    "name = \"Marin\"\n",
    "hp = 40 \n",
    "damage = 5\n",
    "\n",
    "print(\"{} Unit was Created\".format(name))\n",
    "print(\"체력 {0}, 공격력 {1} \\n\".format(hp, damage))"
   ]
  },
  {
   "cell_type": "code",
   "execution_count": 203,
   "metadata": {},
   "outputs": [
    {
     "name": "stdout",
     "output_type": "stream",
     "text": [
      "TANK Unit was Created.\n",
      "HP 150, Damage 35\n",
      "\n"
     ]
    }
   ],
   "source": [
    "# Tank : 공격유닛, 탱크, 포, 일반/시즈 모드\n",
    "tank_name = \"TANK\"\n",
    "tank_hp = 150\n",
    "tank_damage = 35\n",
    "\n",
    "print(\"{} Unit was Created.\".format(tank_name))\n",
    "print(\"HP {0}, Damage {1}\\n\".format(tank_hp, tank_damage))\n"
   ]
  },
  {
   "cell_type": "code",
   "execution_count": 204,
   "metadata": {},
   "outputs": [
    {
     "name": "stdout",
     "output_type": "stream",
     "text": [
      "Marin : 1 o'clock Location, Attack the Enemy. [Damage 5]\n",
      "TANK : 2 O'clock Location, Attack the Enemy. [Damage 35]\n"
     ]
    }
   ],
   "source": [
    "def attack(name, location, damage):\n",
    "    print(\"{0} : {1} Location, Attack the Enemy. [Damage {2}]\".format(name, location, damage))\n",
    "\n",
    "attack(name, \"1 o'clock\", damage)\n",
    "attack(tank_name, \"2 O'clock\", tank_damage)"
   ]
  },
  {
   "cell_type": "code",
   "execution_count": 205,
   "metadata": {},
   "outputs": [
    {
     "name": "stdout",
     "output_type": "stream",
     "text": [
      "Marine Unit was Created.\n",
      "HP : 40, Damage : 5\n",
      "Marine Unit was Created.\n",
      "HP : 40, Damage : 5\n",
      "Tank Unit was Created.\n",
      "HP : 150, Damage : 35\n"
     ]
    }
   ],
   "source": [
    "#9-2 Class ~ __init__(sefl를 제외한 모든 변수를 적어줘야함)\n",
    "class Unit :\n",
    "    def __init__(self, name, hp, damage):\n",
    "        self.name = name\n",
    "        self.hp = hp\n",
    "        self.damage = damage \n",
    "        print(\"{0} Unit was Created.\".format(self.name))\n",
    "        print(\"HP : {0}, Damage : {1}\".format(self.hp, self.damage))\n",
    "\n",
    "marine1 = Unit(\"Marine\", 40, 5)\n",
    "marine2 = Unit(\"Marine\", 40, 5)\n",
    "tank = Unit(\"Tank\", 150, 35)\n",
    "\n"
   ]
  },
  {
   "cell_type": "code",
   "execution_count": 206,
   "metadata": {},
   "outputs": [
    {
     "name": "stdout",
     "output_type": "stream",
     "text": [
      "Wraith Unit was Created.\n",
      "HP : 80, Damage : 5\n",
      "Unit name : Wraith, Damage : 5\n"
     ]
    }
   ],
   "source": [
    "wraith1 = Unit(\"Wraith\", 80, 5)\n",
    "print(\"Unit name : {0}, Damage : {1}\".format(wraith1.name, wraith1.damage))"
   ]
  },
  {
   "cell_type": "code",
   "execution_count": 207,
   "metadata": {},
   "outputs": [
    {
     "name": "stdout",
     "output_type": "stream",
     "text": [
      "Taked Wraith Unit was Created.\n",
      "HP : 80, Damage : 5\n",
      "Taked Wraith is Cloaking\n"
     ]
    }
   ],
   "source": [
    "#9-3 Member Variable\n",
    "wraith2 = Unit(\"Taked Wraith\", 80, 5)\n",
    "wraith2.cloaking = True #새로운 멤버 변수 정의\n",
    "if wraith2.cloaking == True:\n",
    "    print(\"{0} is Cloaking\".format(wraith2.name))"
   ]
  },
  {
   "cell_type": "code",
   "execution_count": null,
   "metadata": {},
   "outputs": [],
   "source": [
    "#9-4 Method\n"
   ]
  }
 ],
 "metadata": {
  "kernelspec": {
   "display_name": "Python 3.9.7 64-bit",
   "name": "python397jvsc74a57bd0aee8b7b246df8f9039afb4144a1f6fd8d2ca17a180786b69acc140d282b71a49"
  },
  "language_info": {
   "codemirror_mode": {
    "name": "ipython",
    "version": 3
   },
   "file_extension": ".py",
   "mimetype": "text/x-python",
   "name": "python",
   "nbconvert_exporter": "python",
   "pygments_lexer": "ipython3",
   "version": "3.9.7"
  },
  "metadata": {
   "interpreter": {
    "hash": "aee8b7b246df8f9039afb4144a1f6fd8d2ca17a180786b69acc140d282b71a49"
   }
  },
  "orig_nbformat": 2
 },
 "nbformat": 4,
 "nbformat_minor": 2
}