{
 "cells": [
  {
   "cell_type": "code",
   "execution_count": 55,
   "source": [
    "print('hellow world')\n",
    "print(5==1)"
   ],
   "outputs": [
    {
     "output_type": "stream",
     "name": "stdout",
     "text": [
      "hellow world\n",
      "False\n"
     ]
    }
   ],
   "metadata": {}
  },
  {
   "cell_type": "code",
   "execution_count": 56,
   "source": [
    "name = \"연탄이\"\n",
    "animal = \"강아지\"\n",
    "age = 4\n",
    "hobby = \"산책\"\n",
    "is_adult = age >= 3\n",
    "\n",
    "print('우리집'+ str(age) + animal + '이름' + name)"
   ],
   "outputs": [
    {
     "output_type": "stream",
     "name": "stdout",
     "text": [
      "우리집4강아지이름연탄이\n"
     ]
    }
   ],
   "metadata": {}
  },
  {
   "cell_type": "code",
   "execution_count": 57,
   "source": [
    "station = '사당'\n",
    "print(station, '행 열차가 들어오고 있습니당')"
   ],
   "outputs": [
    {
     "output_type": "stream",
     "name": "stdout",
     "text": [
      "사당 행 열차가 들어오고 있습니당\n"
     ]
    }
   ],
   "metadata": {}
  },
  {
   "cell_type": "code",
   "execution_count": 58,
   "source": [
    "cabinet = {3: \"유재석\",  1000: \"김기봉\"}\n",
    "\n",
    "print(cabinet.get(3, \"사용가능\"))"
   ],
   "outputs": [
    {
     "output_type": "stream",
     "name": "stdout",
     "text": [
      "유재석\n"
     ]
    }
   ],
   "metadata": {}
  },
  {
   "cell_type": "code",
   "execution_count": 59,
   "source": [
    "print (3 in cabinet)"
   ],
   "outputs": [
    {
     "output_type": "stream",
     "name": "stdout",
     "text": [
      "True\n"
     ]
    }
   ],
   "metadata": {}
  },
  {
   "cell_type": "code",
   "execution_count": 60,
   "source": [
    "# key 는 정수형이 아닌 문자열도 가능\n",
    "cabinet = {\"A-3\": \"유재석\", \"B-100\": \"김태호\"}\n",
    "print(cabinet[\"A-3\"]) # 유재석\n",
    "print(cabinet[\"B-100\"]) # 김태호"
   ],
   "outputs": [
    {
     "output_type": "stream",
     "name": "stdout",
     "text": [
      "유재석\n",
      "김태호\n"
     ]
    }
   ],
   "metadata": {}
  },
  {
   "cell_type": "code",
   "execution_count": 61,
   "source": [
    "print(cabinet) # {'A-3': '유재석', 'B-100': '김태호'}\n",
    "cabinet[\"A-3\"] = \"김종국\" # key 에 해당하는 값이 있는 경우 업데이트\n",
    "cabinet[\"C-20\"] = \"조세호\" # key 에 해당하는 값이 없는 경우 신규 추가\n",
    "print(cabinet) # {'A-3': '김종국', 'B-100': '김태호', 'C-20': '조세호'}"
   ],
   "outputs": [
    {
     "output_type": "stream",
     "name": "stdout",
     "text": [
      "{'A-3': '유재석', 'B-100': '김태호'}\n",
      "{'A-3': '김종국', 'B-100': '김태호', 'C-20': '조세호'}\n"
     ]
    }
   ],
   "metadata": {}
  },
  {
   "cell_type": "code",
   "execution_count": 62,
   "source": [
    "del cabinet[\"A-3\"] # key \"A-3\" 에 해당하는 데이터 삭제\n",
    "print(cabinet) # {'B-100': '김태호', 'C-20': '조세호'}"
   ],
   "outputs": [
    {
     "output_type": "stream",
     "name": "stdout",
     "text": [
      "{'B-100': '김태호', 'C-20': '조세호'}\n"
     ]
    }
   ],
   "metadata": {}
  },
  {
   "cell_type": "code",
   "execution_count": 63,
   "source": [
    "print(cabinet.keys()) # dict_keys(['B-100', 'C-20'])\n"
   ],
   "outputs": [
    {
     "output_type": "stream",
     "name": "stdout",
     "text": [
      "dict_keys(['B-100', 'C-20'])\n"
     ]
    }
   ],
   "metadata": {}
  },
  {
   "cell_type": "code",
   "execution_count": 64,
   "source": [
    "print(cabinet.items()) # dict_items([('B-100', '김태호'), ('C-20', '조세호')])\n"
   ],
   "outputs": [
    {
     "output_type": "stream",
     "name": "stdout",
     "text": [
      "dict_items([('B-100', '김태호'), ('C-20', '조세호')])\n"
     ]
    }
   ],
   "metadata": {}
  },
  {
   "cell_type": "code",
   "execution_count": 65,
   "source": [
    "cabinet.clear()\n",
    "print(cabinet) # {}"
   ],
   "outputs": [
    {
     "output_type": "stream",
     "name": "stdout",
     "text": [
      "{}\n"
     ]
    }
   ],
   "metadata": {}
  },
  {
   "cell_type": "code",
   "execution_count": 66,
   "source": [
    "menu = (\"돈까스\", \"치즈까스\")\n",
    "print(menu[0]) # 돈까스\n",
    "print(menu[1]) # 치즈까스"
   ],
   "outputs": [
    {
     "output_type": "stream",
     "name": "stdout",
     "text": [
      "돈까스\n",
      "치즈까스\n"
     ]
    }
   ],
   "metadata": {}
  },
  {
   "cell_type": "code",
   "execution_count": 67,
   "source": [
    "name = \"김종국\"\n",
    "age = 20\n",
    "hobby = \"코딩\"\n",
    "print(name, age, hobby) # 김종국 20 코딩"
   ],
   "outputs": [
    {
     "output_type": "stream",
     "name": "stdout",
     "text": [
      "김종국 20 코딩\n"
     ]
    }
   ],
   "metadata": {}
  },
  {
   "cell_type": "code",
   "execution_count": 68,
   "source": [
    "my_set = {1,2,3,4,4}\n",
    "print(my_set)"
   ],
   "outputs": [
    {
     "output_type": "stream",
     "name": "stdout",
     "text": [
      "{1, 2, 3, 4}\n"
     ]
    }
   ],
   "metadata": {}
  },
  {
   "cell_type": "code",
   "execution_count": 69,
   "source": [
    "java = {\"유재석\", \"김태호\" , \"양세형\"}\n",
    "python = set([\"유재석\", \"박명수\"])"
   ],
   "outputs": [],
   "metadata": {}
  },
  {
   "cell_type": "code",
   "execution_count": 70,
   "source": [
    "print(java & python)"
   ],
   "outputs": [
    {
     "output_type": "stream",
     "name": "stdout",
     "text": [
      "{'유재석'}\n"
     ]
    }
   ],
   "metadata": {}
  },
  {
   "cell_type": "code",
   "execution_count": 71,
   "source": [
    "print(java.intersection(python))"
   ],
   "outputs": [
    {
     "output_type": "stream",
     "name": "stdout",
     "text": [
      "{'유재석'}\n"
     ]
    }
   ],
   "metadata": {}
  },
  {
   "cell_type": "code",
   "execution_count": 72,
   "source": [
    "print(java | python) # {'박명수', '유재석', '김태호', '양세형'}\n"
   ],
   "outputs": [
    {
     "output_type": "stream",
     "name": "stdout",
     "text": [
      "{'양세형', '유재석', '김태호', '박명수'}\n"
     ]
    }
   ],
   "metadata": {}
  },
  {
   "cell_type": "code",
   "execution_count": 73,
   "source": [
    "menu = {\"coffee\", \"Milk\", \"juice\"}\n",
    "print (menu, type(menu))"
   ],
   "outputs": [
    {
     "output_type": "stream",
     "name": "stdout",
     "text": [
      "{'Milk', 'juice', 'coffee'} <class 'set'>\n"
     ]
    }
   ],
   "metadata": {}
  },
  {
   "cell_type": "code",
   "execution_count": 74,
   "source": [
    "menu = list(menu)\n",
    "print(menu, type(menu))"
   ],
   "outputs": [
    {
     "output_type": "stream",
     "name": "stdout",
     "text": [
      "['Milk', 'juice', 'coffee'] <class 'list'>\n"
     ]
    }
   ],
   "metadata": {}
  },
  {
   "cell_type": "code",
   "execution_count": 75,
   "source": [
    "#quiz 5\n",
    "from random import *\n",
    "lst = range(1, 21)\n",
    "print(lst)\n",
    "cell = sample(lst, 4)\n",
    "print(\"--당첨자 발표--\\n치킨 당첨자 : {0} \\n커피 당첨자 : [{1}])\".format(cell[0], cell[1:]))"
   ],
   "outputs": [
    {
     "output_type": "stream",
     "name": "stdout",
     "text": [
      "range(1, 21)\n",
      "--당첨자 발표--\n",
      "치킨 당첨자 : 7 \n",
      "커피 당첨자 : [[10, 18, 17]])\n"
     ]
    }
   ],
   "metadata": {}
  },
  {
   "cell_type": "code",
   "execution_count": 76,
   "source": [
    "weather = \"비\"\n",
    "\n",
    "if weather == \"비\" : \n",
    "    print(\"우산 챙겨라\")"
   ],
   "outputs": [
    {
     "output_type": "stream",
     "name": "stdout",
     "text": [
      "우산 챙겨라\n"
     ]
    }
   ],
   "metadata": {}
  },
  {
   "cell_type": "code",
   "execution_count": 77,
   "source": [
    "weather = \"미세먼지\"\n",
    "\n",
    "if weather == \"비\":\n",
    "    print(\"우산을 챙기세요\") # 1번\n",
    "elif weather == \"미세먼지\":\n",
    "    print(\"마스크를 챙기세요\") # 2번"
   ],
   "outputs": [
    {
     "output_type": "stream",
     "name": "stdout",
     "text": [
      "마스크를 챙기세요\n"
     ]
    }
   ],
   "metadata": {}
  },
  {
   "cell_type": "code",
   "execution_count": 78,
   "source": [
    "weather = \"맑아요\"\n",
    "\n",
    "if weather == \"비\":\n",
    "    print(\"우산을 챙기세요\") # 1번\n",
    "elif weather == \"미세먼지\":\n",
    "    print(\"마스크를 챙기세요\") # 2번\n",
    "else :\n",
    "    print(\"준비물 없이 go\")"
   ],
   "outputs": [
    {
     "output_type": "stream",
     "name": "stdout",
     "text": [
      "준비물 없이 go\n"
     ]
    }
   ],
   "metadata": {}
  },
  {
   "cell_type": "code",
   "execution_count": 79,
   "source": [
    "weather = input(\"How is the Weather?\")\n",
    "\n",
    "if weather == \"비\" or weather == \"눈\" :\n",
    "    print(\"우산\")\n",
    "elif weather == \"미세먼지\" :\n",
    "    print(\"Mask\")\n",
    "else :\n",
    "    print(\"nothing\")"
   ],
   "outputs": [
    {
     "output_type": "stream",
     "name": "stdout",
     "text": [
      "nothing\n"
     ]
    }
   ],
   "metadata": {}
  },
  {
   "cell_type": "code",
   "execution_count": 80,
   "source": [
    "temp = int(input(\"How is the Temperature?\"))\n",
    "\n",
    "if 30 <= temp :\n",
    "    print(\"It's so Hot, Don't go out\")\n",
    "elif 10 <= temp and temp < 30 :\n",
    "    print(\"It's So good to walkout\")\n",
    "elif 0 <= temp < 10 :\n",
    "    print(\"Take your Coat\")\n",
    "else :\n",
    "    print(\"It's So Cold Don't go out\")"
   ],
   "outputs": [
    {
     "output_type": "stream",
     "name": "stdout",
     "text": [
      "It's so Hot, Don't go out\n"
     ]
    }
   ],
   "metadata": {}
  },
  {
   "cell_type": "code",
   "execution_count": 81,
   "source": [
    "#6-2\n",
    "for wating in range(5) :\n",
    "        print(\"wating number : {0}\".format(wating))\n",
    "\n",
    "for wating in range(1,6) :\n",
    "        print(\"wating number : {0}\".format(wating))\n",
    "\n",
    "starbucks = [\"iron man\", \"Thor\", \"I am grout\"]\n",
    "for customer in starbucks:\n",
    "    print(\"{0}, Here is your coffee\".format(customer))"
   ],
   "outputs": [
    {
     "output_type": "stream",
     "name": "stdout",
     "text": [
      "wating number : 0\n",
      "wating number : 1\n",
      "wating number : 2\n",
      "wating number : 3\n",
      "wating number : 4\n",
      "wating number : 1\n",
      "wating number : 2\n",
      "wating number : 3\n",
      "wating number : 4\n",
      "wating number : 5\n",
      "iron man, Here is your coffee\n",
      "Thor, Here is your coffee\n",
      "I am grout, Here is your coffee\n"
     ]
    }
   ],
   "metadata": {}
  },
  {
   "cell_type": "code",
   "execution_count": 82,
   "source": [
    "#6-3 While\n",
    "\n",
    "customer = \"Thor\"\n",
    "index = 5\n",
    "\n",
    "while index >= 1 :\n",
    "    print(\"{0}, Here is your coffe. {1} is wating\".format(customer, index))\n",
    "    index -= 1\n",
    "    if index == 0 :\n",
    "        print(\"Coffee were Breakout\")"
   ],
   "outputs": [
    {
     "output_type": "stream",
     "name": "stdout",
     "text": [
      "Thor, Here is your coffe. 5 is wating\n",
      "Thor, Here is your coffe. 4 is wating\n",
      "Thor, Here is your coffe. 3 is wating\n",
      "Thor, Here is your coffe. 2 is wating\n",
      "Thor, Here is your coffe. 1 is wating\n",
      "Coffee were Breakout\n"
     ]
    }
   ],
   "metadata": {}
  },
  {
   "cell_type": "code",
   "execution_count": 83,
   "source": [
    "customer = \"아이언맨\"\n",
    "index = 1\n",
    "while False :\n",
    "    print(\"{0}, 커피가 준비 되었다. 호출 {1} 회\".format(customer, index))\n",
    "    index += -1"
   ],
   "outputs": [],
   "metadata": {}
  },
  {
   "cell_type": "code",
   "execution_count": 85,
   "source": [
    "#6-4 Continue & break\n",
    "\n",
    "absent = [2, 5]\n",
    "\n",
    "for student in range (1, 11):\n",
    "    if student in absent:\n",
    "        continue\n",
    "    print(\"{0}, read the book\".format(student))"
   ],
   "outputs": [
    {
     "output_type": "stream",
     "name": "stdout",
     "text": [
      "1, read the book\n",
      "3, read the book\n",
      "4, read the book\n",
      "6, read the book\n",
      "7, read the book\n",
      "8, read the book\n",
      "9, read the book\n",
      "10, read the book\n"
     ]
    }
   ],
   "metadata": {}
  },
  {
   "cell_type": "code",
   "execution_count": 86,
   "source": [
    "absent = [2, 5] \n",
    "no_book = [8]\n",
    "\n",
    "for student in range (1, 11):\n",
    "    if student in absent:\n",
    "        continue\n",
    "    elif student in no_book : \n",
    "        print (\"오늘은 여기까지. {0}는 coming gyomusil?\".format(student))\n",
    "        break\n",
    "    print(\"{0}, read the book\".format(student))"
   ],
   "outputs": [
    {
     "output_type": "stream",
     "name": "stdout",
     "text": [
      "1, read the book\n",
      "3, read the book\n",
      "4, read the book\n",
      "6, read the book\n",
      "7, read the book\n",
      "오늘은 여기까지. 8는 coming gyomusil?\n"
     ]
    }
   ],
   "metadata": {}
  },
  {
   "cell_type": "code",
   "execution_count": 90,
   "source": [
    "#6-5\n",
    "student = list(range(1,6))\n",
    "print(student)\n",
    "\n",
    "student = [i + 100 for i in student]\n",
    "print(student)\n"
   ],
   "outputs": [
    {
     "output_type": "stream",
     "name": "stdout",
     "text": [
      "[1, 2, 3, 4, 5]\n",
      "[101, 102, 103, 104, 105]\n"
     ]
    }
   ],
   "metadata": {}
  },
  {
   "cell_type": "code",
   "execution_count": 93,
   "source": [
    "students = [\"Iron man\", \"Thor\", \"I am Groot\"]\n",
    "print(students)\n",
    "\n",
    "students = [len(i) for i in students]\n",
    "print(students)"
   ],
   "outputs": [
    {
     "output_type": "stream",
     "name": "stdout",
     "text": [
      "['Iron man', 'Thor', 'I am Groot']\n",
      "[8, 4, 10]\n"
     ]
    }
   ],
   "metadata": {}
  },
  {
   "cell_type": "code",
   "execution_count": 94,
   "source": [
    "students  = [\"Iron man\", \"Thor\", \"Ant man\", \"I am Groot\"]\n",
    "print(students)\n",
    "\n",
    "students = [i.upper() for i in students]\n",
    "print(students)"
   ],
   "outputs": [
    {
     "output_type": "stream",
     "name": "stdout",
     "text": [
      "['Iron man', 'Thor', 'Ant man', 'I am Groot']\n",
      "['IRON MAN', 'THOR', 'ANT MAN', 'I AM GROOT']\n"
     ]
    }
   ],
   "metadata": {}
  },
  {
   "cell_type": "code",
   "execution_count": 146,
   "source": [
    "#Quiz 6\n",
    "from random import * \n",
    "\n",
    "count = 0\n",
    "for i in range(1, 51):\n",
    "    caff = randrange(5, 51)\n",
    "    raff = \" \"\n",
    "    if caff >=5 and caff <= 15 : \n",
    "        raff=\"O\"\n",
    "        count += 1\n",
    "    print(\"[{0}] {1}번째 손님 (소요시간 : {2} 분)\".format(raff, i, caff))\n",
    "print(\"총 탑승 승객 = {0}\".format(count))"
   ],
   "outputs": [
    {
     "output_type": "stream",
     "name": "stdout",
     "text": [
      "[] 1번째 손님 (소요시간 : 29 분)\n",
      "[O] 2번째 손님 (소요시간 : 9 분)\n",
      "[O] 3번째 손님 (소요시간 : 9 분)\n",
      "[] 4번째 손님 (소요시간 : 32 분)\n",
      "[] 5번째 손님 (소요시간 : 39 분)\n",
      "[] 6번째 손님 (소요시간 : 42 분)\n",
      "[] 7번째 손님 (소요시간 : 45 분)\n",
      "[] 8번째 손님 (소요시간 : 19 분)\n",
      "[] 9번째 손님 (소요시간 : 25 분)\n",
      "[] 10번째 손님 (소요시간 : 46 분)\n",
      "[O] 11번째 손님 (소요시간 : 6 분)\n",
      "[] 12번째 손님 (소요시간 : 26 분)\n",
      "[] 13번째 손님 (소요시간 : 44 분)\n",
      "[] 14번째 손님 (소요시간 : 30 분)\n",
      "[] 15번째 손님 (소요시간 : 26 분)\n",
      "[] 16번째 손님 (소요시간 : 26 분)\n",
      "[] 17번째 손님 (소요시간 : 39 분)\n",
      "[] 18번째 손님 (소요시간 : 41 분)\n",
      "[O] 19번째 손님 (소요시간 : 11 분)\n",
      "[O] 20번째 손님 (소요시간 : 15 분)\n",
      "[] 21번째 손님 (소요시간 : 16 분)\n",
      "[] 22번째 손님 (소요시간 : 41 분)\n",
      "[] 23번째 손님 (소요시간 : 36 분)\n",
      "[O] 24번째 손님 (소요시간 : 13 분)\n",
      "[O] 25번째 손님 (소요시간 : 14 분)\n",
      "[] 26번째 손님 (소요시간 : 40 분)\n",
      "[O] 27번째 손님 (소요시간 : 11 분)\n",
      "[] 28번째 손님 (소요시간 : 41 분)\n",
      "[] 29번째 손님 (소요시간 : 50 분)\n",
      "[] 30번째 손님 (소요시간 : 19 분)\n",
      "[] 31번째 손님 (소요시간 : 47 분)\n",
      "[O] 32번째 손님 (소요시간 : 13 분)\n",
      "[] 33번째 손님 (소요시간 : 26 분)\n",
      "[] 34번째 손님 (소요시간 : 26 분)\n",
      "[] 35번째 손님 (소요시간 : 50 분)\n",
      "[] 36번째 손님 (소요시간 : 29 분)\n",
      "[] 37번째 손님 (소요시간 : 16 분)\n",
      "[] 38번째 손님 (소요시간 : 29 분)\n",
      "[] 39번째 손님 (소요시간 : 41 분)\n",
      "[] 40번째 손님 (소요시간 : 50 분)\n",
      "[] 41번째 손님 (소요시간 : 22 분)\n",
      "[] 42번째 손님 (소요시간 : 24 분)\n",
      "[] 43번째 손님 (소요시간 : 24 분)\n",
      "[] 44번째 손님 (소요시간 : 27 분)\n",
      "[] 45번째 손님 (소요시간 : 21 분)\n",
      "[] 46번째 손님 (소요시간 : 40 분)\n",
      "[O] 47번째 손님 (소요시간 : 5 분)\n",
      "[O] 48번째 손님 (소요시간 : 7 분)\n",
      "[] 49번째 손님 (소요시간 : 40 분)\n",
      "[O] 50번째 손님 (소요시간 : 9 분)\n",
      "총 탑승 승객 = 12\n"
     ]
    }
   ],
   "metadata": {}
  },
  {
   "cell_type": "code",
   "execution_count": 147,
   "source": [
    "#7-1 함수\n",
    "def open_count():\n",
    "    print(\"New Account was Open\")\n",
    "\n",
    "open_count()"
   ],
   "outputs": [
    {
     "output_type": "stream",
     "name": "stdout",
     "text": [
      "New Account was Open\n"
     ]
    }
   ],
   "metadata": {}
  },
  {
   "cell_type": "code",
   "execution_count": 148,
   "source": [
    "#7-2 전달값과 반환값\n",
    "def deposit(balance, money):\n",
    "    print(\"Deposit was Complete. Balance : {0} $\".format(balance + money))\n",
    "    return balance + money\n",
    "\n",
    "balance = 412\n",
    "balance = deposit(balance, 1000)\n",
    "print(balance)"
   ],
   "outputs": [
    {
     "output_type": "stream",
     "name": "stdout",
     "text": [
      "Deposit was Complete. Balance : 1412 $\n",
      "1412\n"
     ]
    }
   ],
   "metadata": {}
  },
  {
   "cell_type": "code",
   "execution_count": 150,
   "source": [
    "def withdraw(balance, money):\n",
    "    if balance >= money:\n",
    "        print(\"withdraw was complete. balance is {0}$\".format(balance - money))\n",
    "        return balance - money\n",
    "    else : \n",
    "        print(\"Withdraw Was Failed. balance is {0}\".format(balance))\n",
    "        return balance\n",
    "\n",
    "balance = 1030\n",
    "balance = deposit(balance, 10200)\n",
    "\n",
    "balance = withdraw(balance, 500000)\n",
    "balance = withdraw(balance, 420)\n",
    "print(balance)"
   ],
   "outputs": [
    {
     "output_type": "stream",
     "name": "stdout",
     "text": [
      "Deposit was Complete. Balance : 11230 $\n",
      "Withdraw Was Failed. balance is 11230\n",
      "withdraw was complete. balance is 10810$\n",
      "10810\n"
     ]
    }
   ],
   "metadata": {}
  },
  {
   "cell_type": "code",
   "execution_count": 151,
   "source": [
    "def withdraw_night(balance, moeney) :\n",
    "    commission = 100\n",
    "    return commission, balance - moeney - commission\n",
    "\n",
    "balance = 1400\n",
    "balance = deposit(balance, 149)\n",
    "\n",
    "commission, balance = withdraw_night(balance, 500)\n",
    "print(\"commision {0}, balance : {1}\".format(commission, balance))"
   ],
   "outputs": [
    {
     "output_type": "stream",
     "name": "stdout",
     "text": [
      "Deposit was Complete. Balance : 1549 $\n",
      "commision 100, balance : 949\n"
     ]
    }
   ],
   "metadata": {}
  },
  {
   "cell_type": "code",
   "execution_count": 155,
   "source": [
    "#7-3 Default \n",
    "def profile(name, age=17, main_lang=\"Python\"):\n",
    "    print(\"Name : {0} \\tAge : {1} \\tMain Langauge : {2}\".format(name, age, main_lang))\n",
    "\n",
    "profile(\"유재석\")\n",
    "profile(\"김태호\", 23,\"JAVA\")"
   ],
   "outputs": [
    {
     "output_type": "stream",
     "name": "stdout",
     "text": [
      "Name : 유재석 \tAge : 17 \tMain Langauge : Python\n",
      "Name : 김태호 \tAge : 23 \tMain Langauge : JAVA\n"
     ]
    }
   ],
   "metadata": {}
  },
  {
   "cell_type": "code",
   "execution_count": 158,
   "source": [
    "#7-4 Keyword Parameter\n",
    "def profile(name, age=17, main_lang=\"Python\"):\n",
    "    print(\"Name : {0} \\tAge : {1} \\tMain Langauge : {2}\".format(name, age, main_lang))\n",
    "\n",
    "profile(\"유재석\")\n",
    "profile(name = \"김태호\", main_lang=\"JAVA\")\n",
    "profile(\"유재석3\", main_lang=\"파이썬\", age=20)\n",
    "profile(main_lang=\"자바\", age=25, name=\"김태후\")"
   ],
   "outputs": [
    {
     "output_type": "stream",
     "name": "stdout",
     "text": [
      "Name : 유재석 \tAge : 17 \tMain Langauge : Python\n",
      "Name : 김태호 \tAge : 17 \tMain Langauge : JAVA\n",
      "Name : 유재석3 \tAge : 20 \tMain Langauge : 파이썬\n",
      "Name : 김태후 \tAge : 25 \tMain Langauge : 자바\n"
     ]
    }
   ],
   "metadata": {}
  },
  {
   "cell_type": "code",
   "execution_count": 160,
   "source": [
    "#7-5 Variadic Argument(가변인자)\n",
    "\n",
    "def profile(name, age, *language) :\n",
    "    print(\"name : {0}\\tAge : {1}\\tLanguage : \".format(name, age), end =\" \")\n",
    "    for lang in language:\n",
    "        print(lang, end=\" \")\n",
    "    print()\n",
    "\n",
    "profile(\"유재석\", 20, \"Python\", \"Java\", \"C\", \"C++\", \"C#\", \"JavaScript\") # JavaScript 추가\n",
    "profile(\"김태호\", 25, \"Kotlin\", \"Swift\")\n",
    "\n"
   ],
   "outputs": [
    {
     "output_type": "stream",
     "name": "stdout",
     "text": [
      "name : 유재석\tAge : 20\tLanguage :  Python Java C C++ C# JavaScript \n",
      "name : 김태호\tAge : 25\tLanguage :  Kotlin Swift \n"
     ]
    }
   ],
   "metadata": {}
  },
  {
   "cell_type": "code",
   "execution_count": 163,
   "source": [
    "#7-6 Local Value & Global Value\n",
    "\n",
    "gun = 10\n",
    "\n",
    "def checkpoint(soldiers) :\n",
    "    global gun\n",
    "    gun = gun - soldiers\n",
    "    print(\"[함수내] 남은 총 : {0}\".format(gun))\n",
    "\n",
    "print(\"Total Gun : {0}\".format(gun))\n",
    "checkpoint(2)\n",
    "print(\"Remain Gun : {0}\".format(gun))\n"
   ],
   "outputs": [
    {
     "output_type": "stream",
     "name": "stdout",
     "text": [
      "Total Gun : 10\n",
      "[함수내] 남은 총 : 8\n",
      "Remain Gun : 8\n"
     ]
    }
   ],
   "metadata": {}
  },
  {
   "cell_type": "code",
   "execution_count": 164,
   "source": [
    "gun = 10\n",
    "\n",
    "def checkpoint_ret(gun, soldier):\n",
    "    gun = gun - soldier\n",
    "    print(\"[In Function] Remain Gun = {0}\".format(gun))\n",
    "    return gun\n",
    "\n",
    "print(\"Total Gun = {0}\".format(gun))\n",
    "gun = checkpoint_ret(gun, 2)\n",
    "print(\"Remain Gun = {0}\".format(gun))"
   ],
   "outputs": [
    {
     "output_type": "stream",
     "name": "stdout",
     "text": [
      "Total Gun = 10\n",
      "[In Function] Remain Gun = 8\n",
      "Remain Gun = 8\n"
     ]
    }
   ],
   "metadata": {}
  },
  {
   "cell_type": "code",
   "execution_count": 170,
   "source": [
    "#Quiz 7\n",
    "\n",
    "def std_weight(height, gender):\n",
    "    weight = 0\n",
    "    if gender == 1 : \n",
    "        weight = height*height*22\n",
    "        gender_str = \"남\"\n",
    "    elif gender == 2 :\n",
    "        weight = height*height*21\n",
    "        gender_str = \"여\"\n",
    "    print(\"키 {0}cm {1}자의 표준 체중은 {2}kg 입니다.\".format(round(height*100), gender_str, round(weight,2)))\n",
    "\n",
    "\n",
    "std_weight(1.74, 1)\n",
    "std_weight(1.66, 2)"
   ],
   "outputs": [
    {
     "output_type": "stream",
     "name": "stdout",
     "text": [
      "키 174cm 남자의 표준 체중은 66.61kg 입니다.\n",
      "키 166cm 여자의 표준 체중은 57.87kg 입니다.\n"
     ]
    }
   ],
   "metadata": {}
  },
  {
   "cell_type": "code",
   "execution_count": 171,
   "source": [
    "#8-1 Standard Input Output\n",
    "print(\"Python\", \"JAVA\", sep=\", \", end=\"?\")"
   ],
   "outputs": [
    {
     "output_type": "stream",
     "name": "stdout",
     "text": [
      "Python, JAVA?"
     ]
    }
   ],
   "metadata": {}
  },
  {
   "cell_type": "code",
   "execution_count": 173,
   "source": [
    "score = {\"Math\" : 0, \"Eng\" : 50, \"Coding\" : 100}\n",
    "for subject, score in score.items():\n",
    "    print(subject.ljust(8), str(score).rjust(4), sep=':')"
   ],
   "outputs": [
    {
     "output_type": "stream",
     "name": "stdout",
     "text": [
      "Math    :   0\n",
      "Eng     :  50\n",
      "Coding  : 100\n"
     ]
    }
   ],
   "metadata": {}
  },
  {
   "cell_type": "code",
   "execution_count": 174,
   "source": [
    "for num in range(1, 6):\n",
    "    print(\"Waiting : \" + str(num).zfill(3))"
   ],
   "outputs": [
    {
     "output_type": "stream",
     "name": "stdout",
     "text": [
      "Waiting : 001\n",
      "Waiting : 002\n",
      "Waiting : 003\n",
      "Waiting : 004\n",
      "Waiting : 005\n"
     ]
    }
   ],
   "metadata": {}
  },
  {
   "cell_type": "code",
   "execution_count": 186,
   "source": [
    "#8-2 Variety Output Format\n",
    "\n",
    "print(\"{0:>10}\".format(499)) #빈 자리는 비워두고, 우측정렬, 10칸 공간확보\n",
    "print(\"{0: >+10}\".format(4219)) #빈 자리는 비워두고, 우측정렬, + 기호, 10칸 공간확보\n",
    "print(\"{0:_<10}\".format(142)) # 빈자리 _, 좌측정렬, 10칸 확보\n",
    "print(\"{0:,}\".format(100000000000)) # 3자리 마다 콤마 \n",
    "print(\"{0:+,}\".format(10000213040200)) # +기호, 3자리 콤마\n",
    "print(\"{0:f}\".format(5/2)) # 실수 값 출력\n",
    "print(\"{0:.2f}\".format(5/3)) # 소수점 2번째 까지 출력\n",
    "# {인덱스:[[빈자리채우기]정렬][기호][확보공간][콤마][.자릿수][타입]}\n"
   ],
   "outputs": [
    {
     "output_type": "stream",
     "name": "stdout",
     "text": [
      "       499\n",
      "     +4219\n",
      "142_______\n",
      "100,000,000,000\n",
      "+10,000,213,040,200\n",
      "2.500000\n",
      "1.67\n"
     ]
    }
   ],
   "metadata": {}
  },
  {
   "cell_type": "code",
   "execution_count": 187,
   "source": [
    "#8-3 File I/O\n",
    "\n",
    "score_file = open(\"score.txt\", \"w\", encoding = \"utf8\")\n",
    "print(\"Math : 0\", file=score_file)\n",
    "print(\"English : 50\", file=score_file)\n",
    "score_file.close()\n"
   ],
   "outputs": [],
   "metadata": {}
  },
  {
   "cell_type": "code",
   "execution_count": 189,
   "source": [
    "score_file = open(\"score.txt\", \"a\", encoding=\"utf8\")\n",
    "score_file.write(\"Science : 80\")\n",
    "score_file.write(\"\\nCoding : 100\")\n",
    "score_file.close()"
   ],
   "outputs": [],
   "metadata": {}
  },
  {
   "cell_type": "code",
   "execution_count": 190,
   "source": [
    "score_file = open(\"score.txt\", \"r\", encoding=\"utf8\")\n",
    "print(score_file.read())\n",
    "score_file.close()"
   ],
   "outputs": [
    {
     "output_type": "stream",
     "name": "stdout",
     "text": [
      "Math : 0\n",
      "English : 50\n",
      "Science : 80\n",
      "Coding : 100\n"
     ]
    }
   ],
   "metadata": {}
  },
  {
   "cell_type": "code",
   "execution_count": 191,
   "source": [
    "score_file = open(\"score.txt\", \"r\", encoding=\"utf8\")\n",
    "print(score_file.readline(), end=\"\")\n",
    "print(score_file.readline(), end=\"\")\n",
    "print(score_file.readline(), end=\"\")\n",
    "print(score_file.readline(), end=\"\")\n",
    "score_file.close()"
   ],
   "outputs": [
    {
     "output_type": "stream",
     "name": "stdout",
     "text": [
      "Math : 0\n",
      "English : 50\n",
      "Science : 80\n",
      "Coding : 100"
     ]
    }
   ],
   "metadata": {}
  },
  {
   "cell_type": "code",
   "execution_count": 192,
   "source": [
    "score_file=open(\"score.txt\", \"r\", encoding=\"utf8\")\n",
    "\n",
    "while True :\n",
    "    line = score_file.readline()\n",
    "    if not line :\n",
    "        break\n",
    "    print(line, end=\"\")\n",
    "\n",
    "score_file.close()"
   ],
   "outputs": [
    {
     "output_type": "stream",
     "name": "stdout",
     "text": [
      "Math : 0\n",
      "English : 50\n",
      "Science : 80\n",
      "Coding : 100"
     ]
    }
   ],
   "metadata": {}
  },
  {
   "cell_type": "code",
   "execution_count": 194,
   "source": [
    "score_file = open(\"score.txt\", \"r\", encoding=\"utf8\")\n",
    "\n",
    "lines = score_file.readlines()\n",
    "for line in lines:\n",
    "    print(line, end=\"\")\n",
    "\n",
    "score_file.close()"
   ],
   "outputs": [
    {
     "output_type": "stream",
     "name": "stdout",
     "text": [
      "Math : 0\n",
      "English : 50\n",
      "Science : 80\n",
      "Coding : 100"
     ]
    }
   ],
   "metadata": {}
  },
  {
   "cell_type": "code",
   "execution_count": 195,
   "source": [
    "#8-4 pickle\n",
    "\n",
    "import pickle\n",
    "\n",
    "profile_file = open(\"profile.pickle\", \"wb\") #wb : write binary file \n",
    "profile = {\"name\" : \"MeyongSoo Park\", \"Age\" : 30, \"Hobby\" : [\"Soccer\", \"Golf\", \"Coding\"]}\n",
    "print(profile)\n",
    "\n",
    "pickle.dump(profile, profile_file) #profile Data를 File에 저장\n",
    "profile_file.close()\n",
    "\n"
   ],
   "outputs": [
    {
     "output_type": "stream",
     "name": "stdout",
     "text": [
      "{'name': 'MeyongSoo Park', 'Age': 30, 'Hobby': ['Soccer', 'Golf', 'Coding']}\n"
     ]
    }
   ],
   "metadata": {}
  },
  {
   "cell_type": "code",
   "execution_count": 197,
   "source": [
    "profile_file = open(\"profile.pickle\", \"rb\")\n",
    "profile = pickle.load(profile_file)\n",
    "\n",
    "print(profile)\n",
    "profile_file.close()"
   ],
   "outputs": [
    {
     "output_type": "stream",
     "name": "stdout",
     "text": [
      "{'name': 'MeyongSoo Park', 'Age': 30, 'Hobby': ['Soccer', 'Golf', 'Coding']}\n"
     ]
    }
   ],
   "metadata": {}
  },
  {
   "cell_type": "code",
   "execution_count": 198,
   "source": [
    "#8-5 With : Close()를 쓰지 않고도 자동으로 닫아주는 명령어\n",
    "\n",
    "import pickle\n",
    "\n",
    "with open(\"profile.pickle\", \"rb\") as profile_file:\n",
    "    print(pickle.load(profile_file))\n"
   ],
   "outputs": [
    {
     "output_type": "stream",
     "name": "stdout",
     "text": [
      "{'name': 'MeyongSoo Park', 'Age': 30, 'Hobby': ['Soccer', 'Golf', 'Coding']}\n"
     ]
    }
   ],
   "metadata": {}
  },
  {
   "cell_type": "code",
   "execution_count": 199,
   "source": [
    "with open(\"study.txt\", \"w\", encoding=\"utf8\") as study_file:\n",
    "    study_file.write(\"Studing Python!!!!\")\n"
   ],
   "outputs": [],
   "metadata": {}
  },
  {
   "cell_type": "code",
   "execution_count": 200,
   "source": [
    "with open(\"study.txt\", \"r\", encoding=\"utf8\") as study_file:\n",
    "    print(study_file.read())"
   ],
   "outputs": [
    {
     "output_type": "stream",
     "name": "stdout",
     "text": [
      "Studing Python!!!!\n"
     ]
    }
   ],
   "metadata": {}
  },
  {
   "cell_type": "code",
   "execution_count": 201,
   "source": [
    "for i in range(1, 11):\n",
    "    with open(\"{0}주차.txt\".format(i), \"w\", encoding=\"utf8\") as summary_file:\n",
    "        summary_file.write(\"-{0} 주차 주간보고 - \\n부서 : \\n이름 : \\n업무요약 : \".format(i))"
   ],
   "outputs": [],
   "metadata": {}
  },
  {
   "cell_type": "code",
   "execution_count": 202,
   "source": [
    "#9-1 Class (객체지향 : Object Oriented Programming)\n",
    "\n",
    "# 마린 : 공격 유닛, 군인, 총 쏨\n",
    "name = \"Marin\"\n",
    "hp = 40 \n",
    "damage = 5\n",
    "\n",
    "print(\"{} Unit was Created\".format(name))\n",
    "print(\"체력 {0}, 공격력 {1} \\n\".format(hp, damage))"
   ],
   "outputs": [
    {
     "output_type": "stream",
     "name": "stdout",
     "text": [
      "Marin Unit was Created\n",
      "체력 40, 공격력 5 \n",
      "\n"
     ]
    }
   ],
   "metadata": {}
  },
  {
   "cell_type": "code",
   "execution_count": 203,
   "source": [
    "# Tank : 공격유닛, 탱크, 포, 일반/시즈 모드\n",
    "tank_name = \"TANK\"\n",
    "tank_hp = 150\n",
    "tank_damage = 35\n",
    "\n",
    "print(\"{} Unit was Created.\".format(tank_name))\n",
    "print(\"HP {0}, Damage {1}\\n\".format(tank_hp, tank_damage))\n"
   ],
   "outputs": [
    {
     "output_type": "stream",
     "name": "stdout",
     "text": [
      "TANK Unit was Created.\n",
      "HP 150, Damage 35\n",
      "\n"
     ]
    }
   ],
   "metadata": {}
  },
  {
   "cell_type": "code",
   "execution_count": 204,
   "source": [
    "def attack(name, location, damage):\n",
    "    print(\"{0} : {1} Location, Attack the Enemy. [Damage {2}]\".format(name, location, damage))\n",
    "\n",
    "attack(name, \"1 o'clock\", damage)\n",
    "attack(tank_name, \"2 O'clock\", tank_damage)"
   ],
   "outputs": [
    {
     "output_type": "stream",
     "name": "stdout",
     "text": [
      "Marin : 1 o'clock Location, Attack the Enemy. [Damage 5]\n",
      "TANK : 2 O'clock Location, Attack the Enemy. [Damage 35]\n"
     ]
    }
   ],
   "metadata": {}
  },
  {
   "cell_type": "code",
   "execution_count": 205,
   "source": [
    "#9-2 Class ~ __init__(sefl를 제외한 모든 변수를 적어줘야함)\n",
    "class Unit :\n",
    "    def __init__(self, name, hp, damage):\n",
    "        self.name = name\n",
    "        self.hp = hp\n",
    "        self.damage = damage \n",
    "        print(\"{0} Unit was Created.\".format(self.name))\n",
    "        print(\"HP : {0}, Damage : {1}\".format(self.hp, self.damage))\n",
    "\n",
    "marine1 = Unit(\"Marine\", 40, 5)\n",
    "marine2 = Unit(\"Marine\", 40, 5)\n",
    "tank = Unit(\"Tank\", 150, 35)\n",
    "\n"
   ],
   "outputs": [
    {
     "output_type": "stream",
     "name": "stdout",
     "text": [
      "Marine Unit was Created.\n",
      "HP : 40, Damage : 5\n",
      "Marine Unit was Created.\n",
      "HP : 40, Damage : 5\n",
      "Tank Unit was Created.\n",
      "HP : 150, Damage : 35\n"
     ]
    }
   ],
   "metadata": {}
  },
  {
   "cell_type": "code",
   "execution_count": 206,
   "source": [
    "wraith1 = Unit(\"Wraith\", 80, 5)\n",
    "print(\"Unit name : {0}, Damage : {1}\".format(wraith1.name, wraith1.damage))"
   ],
   "outputs": [
    {
     "output_type": "stream",
     "name": "stdout",
     "text": [
      "Wraith Unit was Created.\n",
      "HP : 80, Damage : 5\n",
      "Unit name : Wraith, Damage : 5\n"
     ]
    }
   ],
   "metadata": {}
  },
  {
   "cell_type": "code",
   "execution_count": 207,
   "source": [
    "#9-3 Member Variable\n",
    "wraith2 = Unit(\"Taked Wraith\", 80, 5)\n",
    "wraith2.cloaking = True #새로운 멤버 변수 정의\n",
    "if wraith2.cloaking == True:\n",
    "    print(\"{0} is Cloaking\".format(wraith2.name))"
   ],
   "outputs": [
    {
     "output_type": "stream",
     "name": "stdout",
     "text": [
      "Taked Wraith Unit was Created.\n",
      "HP : 80, Damage : 5\n",
      "Taked Wraith is Cloaking\n"
     ]
    }
   ],
   "metadata": {}
  },
  {
   "cell_type": "code",
   "execution_count": 210,
   "source": [
    "#9-4 Method\n",
    "\n",
    "class AttackUnit : \n",
    "    def __init__(self, name, hp, damage):\n",
    "        self.name = name\n",
    "        self.hp = hp\n",
    "        self.damage = damage\n",
    "\n",
    "    def attack(self, location):\n",
    "        print(\"{0} : {1} 방향으로 공격합니다 [Damage : {2}]\"\\\n",
    "            .format(self.name, location, self.damage))\n",
    "\n",
    "    def damaged (self, damage): #damage 만큼 유닛 피해\n",
    "        print(\"{0} : {1} Damaged.\".format(self.name, damage))\n",
    "        self.hp -= damage # Damage 만큼 체력 감소\n",
    "        if self.hp <= 0:\n",
    "            print(\"{0} : Was Break out.\".format(self.name))\n",
    "        else : \n",
    "            print(\"{0} : {1} Remain HP.\".format(self.name, self.hp))\n",
    "\n",
    "\n",
    "firebat1 = AttackUnit(\"Firebat\", 50, 16)\n",
    "firebat1.attack(\"5 O'clock\")\n",
    "firebat1.damaged(25)\n",
    "firebat1.damaged(25)\n"
   ],
   "outputs": [
    {
     "output_type": "stream",
     "name": "stdout",
     "text": [
      "Firebat : 5 O'clock 방향으로 공격합니다 [Damage : 16]\n",
      "Firebat : 25 Damaged.\n",
      "Firebat : 25 Remain HP.\n",
      "Firebat : 25 Damaged.\n",
      "Firebat : Was Break out.\n"
     ]
    }
   ],
   "metadata": {}
  },
  {
   "cell_type": "code",
   "execution_count": 211,
   "source": [
    "#9-5 inheritance(상속)\n",
    "class Unit :\n",
    "    def __init__(self, name, hp):\n",
    "        self.name = name\n",
    "        self.hp = hp\n",
    "\n",
    "class AttackUnit(Unit):\n",
    "    def __init__ (self, name, hp, damage):\n",
    "        Unit.__init__(self, name, hp)\n",
    "        self.damage = damage\n",
    "    \n",
    "    def attack(self, location):\n",
    "        print(\"{0} : {1} 방향으로 공격합니다 [Damage : {2}]\"\\\n",
    "            .format(self.name, location, self.damage))\n",
    "\n",
    "    def damaged (self, damage): #damage 만큼 유닛 피해\n",
    "        print(\"{0} : {1} Damaged.\".format(self.name, damage))\n",
    "        self.hp -= damage # Damage 만큼 체력 감소\n",
    "        if self.hp <= 0:\n",
    "            print(\"{0} : Was Break out.\".format(self.name))\n",
    "        else : \n",
    "            print(\"{0} : {1} Remain HP.\".format(self.name, self.hp))\n",
    "\n",
    "firebat2 = AttackUnit(\"Firebat\", 50, 16)\n",
    "firebat2.attack(\"4 O'Clock\")\n",
    "firebat2.damaged(25)\n",
    "firebat2.damaged(30)\n"
   ],
   "outputs": [
    {
     "output_type": "stream",
     "name": "stdout",
     "text": [
      "Firebat : 4 O'Clock 방향으로 공격합니다 [Damage : 16]\n",
      "Firebat : 25 Damaged.\n",
      "Firebat : 25 Remain HP.\n",
      "Firebat : 30 Damaged.\n",
      "Firebat : Was Break out.\n"
     ]
    }
   ],
   "metadata": {}
  },
  {
   "cell_type": "code",
   "execution_count": 212,
   "source": [
    "#9-6 다중 상속 (Multiple inheritance)\n",
    "# Unit -> AttackUnit ->FlyableAttack // Flyable -> FlyableAttack \n",
    "\n",
    "class Flyable:\n",
    "    def __init__ (self, flying_speed):\n",
    "        self.flying_speed = flying_speed\n",
    "\n",
    "    def fly(self, name, location):\n",
    "        print(\"{0} : {1} 방향으로 날아감. [속도 : {2}]\"\\\n",
    "            .format(name, location, self.flying_speed))\n",
    "\n",
    "class FlyableAttackUnit(AttackUnit, Flyable):\n",
    "    def __init__(self, name, hp, damage, flying_speed):\n",
    "        AttackUnit.__init__(self, name, hp, damage)\n",
    "        Flyable.__init__(self, flying_speed)\n",
    "\n",
    "valkyrie = FlyableAttackUnit(\"Valkyrie\", 200, 6, 5)\n",
    "valkyrie.fly(valkyrie.name, \"3 O'clock\")"
   ],
   "outputs": [
    {
     "output_type": "stream",
     "name": "stdout",
     "text": [
      "Valkyrie : 3 O'clock 방향으로 날아감. [속도 : 5]\n"
     ]
    }
   ],
   "metadata": {}
  },
  {
   "cell_type": "code",
   "execution_count": 216,
   "source": [
    "#9-7 Method Overriding\n",
    "\n",
    "class Unit :\n",
    "    def __init__(self, name, hp, speed): #지상 유닛 speed 추가\n",
    "        self.name = name\n",
    "        self.hp = hp\n",
    "        self.speed = speed\n",
    "    \n",
    "    def move(self, location):\n",
    "        print(\"[지상유닛 이동]\")\n",
    "        print(\"{0} : Move to {1} Direction [Speed : {2}]\".format(self.name, location, self.speed))\n",
    "        \n",
    "class AttackUnit(Unit) :\n",
    "    def __init__(self, name, hp, speed, damage):\n",
    "        Unit.__init__(self, name, hp, speed)\n",
    "        self.damage = damage\n",
    "\n",
    "    def attack(self, location):\n",
    "        print(\"{0} : Attack to {1} Direction. [Damage : {2}]\"\\\n",
    "            .format(self.name, location, self.damage))\n",
    "    \n",
    "    def damaged (self, damage): #damage 만큼 유닛 피해\n",
    "        print(\"{0} : {1} Damaged.\".format(self.name, damage))\n",
    "        self.hp -= damage # damage 만큼 체력 감소\n",
    "        if self.hp <= 0:\n",
    "            print(\"{0} : Was Break out.\".format(self.name))\n",
    "        else : \n",
    "            print(\"{0} : {1} Remain HP.\".format(self.name, self.hp))\n",
    "\n",
    "class Flyable:\n",
    "    def __init__(self, flying_speed):\n",
    "        self.flying_speed = flying_speed\n",
    "    \n",
    "    def fly(self, name, location):\n",
    "        print(\"{0} : Flying to {1} dircection. [Speed : {2}]\"\\\n",
    "            .format(name, location, self.flying_speed))\n",
    "\n",
    "class FlyableAttackUnit(AttackUnit, Flyable):\n",
    "    def __init__(self, name, hp, damage, flying_speed):\n",
    "        AttackUnit.__init__(self, name, hp, 0, damage)\n",
    "        Flyable.__init__(self, flying_speed)\n",
    "\n",
    "    def move(self, location): # Unit class의 move() 메소드 오버라이딩\n",
    "        print(\"[공중유닛 이동]\")\n",
    "        self.fly(self.name, location)\n",
    "\n",
    "vulture = AttackUnit(\"Vulture\", 80, 10, 20) # Ground Unit, Speed 10\n",
    "battlecruiser = FlyableAttackUnit(\"BattleCruiser\", 500, 25, 3)\n",
    "\n",
    "vulture.move(\"11 O'clock\")\n",
    "battlecruiser.fly(battlecruiser.name, \"9 O'clock\")\n",
    "battlecruiser.move(\"4 O'clock\")\n"
   ],
   "outputs": [
    {
     "output_type": "stream",
     "name": "stdout",
     "text": [
      "[지상유닛 이동]\n",
      "Vulture : Move to 11 O'clock Direction [Speed : 10]\n",
      "BattleCruiser : Flying to 9 O'clock dircection. [Speed : 3]\n",
      "[공중유닛 이동]\n",
      "BattleCruiser : Flying to 4 O'clock dircection. [Speed : 3]\n"
     ]
    }
   ],
   "metadata": {}
  },
  {
   "cell_type": "code",
   "execution_count": 218,
   "source": [
    "#9-8 Pass : 에러 없이 일단 수행\n",
    "\n",
    "# Building\n",
    "class BuildingUnit(Unit):\n",
    "    def __init__(self, name, hp, location):\n",
    "        pass\n",
    "\n",
    "supply_depot = BuildingUnit(\"Supply Depot\", 500, \"7 O'clock\")\n",
    "\n",
    "def game_start():\n",
    "    print(\"[Alarm] New Game Start\")\n",
    "def game_over():\n",
    "    pass\n",
    "game_start()\n",
    "game_over()"
   ],
   "outputs": [
    {
     "output_type": "stream",
     "name": "stdout",
     "text": [
      "[Alarm] New Game Start\n"
     ]
    }
   ],
   "metadata": {}
  },
  {
   "cell_type": "code",
   "execution_count": 219,
   "source": [
    "# 9-9 super() = 부모 클래스에 바로 접근하는 메소드\n",
    "\n",
    "# Building\n",
    "class BuildingUnit(Unit):\n",
    "    def __init__(self, name, hp, location):\n",
    "        super().__init__(self, name, hp, 0)\n",
    "        self.location = location"
   ],
   "outputs": [],
   "metadata": {}
  },
  {
   "cell_type": "code",
   "execution_count": 222,
   "source": [
    "#부모 클래스가 2개 이상인 다중 상속\n",
    "# 순서상 가장 먼저 상속 받은 클래스로 접근 (Unit 과 Flyable 위치 바꾸면 다른 상속)\n",
    "# 다중 상속시, 부모 클래스의 명시적 호출을 통한 접근이 적절함\n",
    "\n",
    "\n",
    "class Unit :\n",
    "    def __init__(self):\n",
    "        print(\"Unit 생성자\")\n",
    "\n",
    "class Flyable:\n",
    "    def __init__(self):\n",
    "        print(\"Flyable 생성자\")\n",
    "\n",
    "class FlyableUnit(Unit, Flyable):\n",
    "    def __init__(self):\n",
    "        super().__init__() # 부모 클래스 접근 시 self 없이 사용\n",
    "        Unit.__init__(self) # 부모 클래스 명시적 호출\n",
    "        Flyable.__init__(self)\n",
    "\n",
    "# 드랍쉽\n",
    "dropship = FlyableUnit()"
   ],
   "outputs": [
    {
     "output_type": "stream",
     "name": "stdout",
     "text": [
      "Unit 생성자\n",
      "Unit 생성자\n",
      "Flyable 생성자\n"
     ]
    }
   ],
   "metadata": {}
  },
  {
   "cell_type": "code",
   "execution_count": 224,
   "source": [
    "#9-10 Starcraft Project First Half\n",
    "from random import *\n",
    "\n",
    " # 일반 유닛 \n",
    "class Unit:\n",
    "    def __init__(self, name, hp, speed):\n",
    "        self.name = name\n",
    "        self.hp = hp\n",
    "        self.speed = speed\n",
    "        print(\"{0} Unit Was Created.\".format(name))\n",
    "\n",
    "    def move(self, location):\n",
    "        # print(\"[지상유닛 이동]\")\n",
    "        print(\"{0} : Move To {1} Direction. [Speed : {2}]\".format(self.name, location, self.speed))\n",
    "    \n",
    "    def damaged(self, damage):\n",
    "        print(\"{0} : is Under Attack {1}.\".format(self.name, damage))\n",
    "        self.hp -= damage\n",
    "        if self.hp <= 0:\n",
    "            print(\"{0} : Was Destroyed.\".format(self.name))\n",
    "        else :\n",
    "            print(\"{0} : {1} Remain HP\".format(self.name, self.hp))\n",
    "\n",
    "class AttackUnit(Unit) :\n",
    "    def __init__(self, name, hp, speed, damage):\n",
    "        Unit.__init__(self, name, hp, speed)\n",
    "        self.damage = damage\n",
    "\n",
    "    def attack(self, location):\n",
    "        print(\"{0} : Attack to {1} Direction. [Damage : {2}]\"\\\n",
    "            .format(self.name, location, self.damage))\n",
    "\n",
    "class Marine(AttackUnit):\n",
    "    def __init__(self):\n",
    "        AttackUnit.__init__(self, \"Marine\", 40, 1, 5)\n",
    "    \n",
    "    #StimPack\n",
    "    def stimpack(self):\n",
    "        if self.hp > 10 :\n",
    "            self.hp -= 10\n",
    "            print(\"{0} : Fire Out (- 10 HP)\".format(self.name))\n",
    "        else :\n",
    "            print(\"{0} : Not enough Energy.\".format(self.name))\n",
    "    \n",
    "class Tank(AttackUnit):\n",
    "    # Mode\n",
    "    # 모든 Tank 클래스 객체에 적용하기 위한 클래스 변수\n",
    "    siege_developed = False #시즈모드 개발 여부\n",
    "\n",
    "    def __init__(self):\n",
    "        AttackUnit.__init__(self, \"Tank\", 150, 1, 35)\n",
    "        self.siege_developed = False # 시즈모드 해제 상태\n",
    "\n",
    "    def set_seige_mode(self):\n",
    "        if self.siege_developed == False: # 시즈모드 개발이 안됐을때, 메소드 탈출\n",
    "            return \n",
    "        \n",
    "        if self.set_seige_mode == False :\n",
    "            print(\"{0} : Changing Mode To Siege\".format(self.name))\n",
    "            self.damage *= 2\n",
    "            self.speed = 0\n",
    "            self.set_seige_mode = True\n",
    "        else : #시즈모드 일 때\n",
    "            print(\"{0} : Changing to Normal Mode\".format(self.name))\n",
    "            self.damage /= 2\n",
    "            self.speed = 1\n",
    "            self.set_seige_mode = False\n",
    "\n",
    "# 날 수 있는 클래스들\n",
    "class Flyable:\n",
    "    def __init__(self, flying_speed):\n",
    "        self.flying_speed = flying_speed\n",
    "    \n",
    "    def fly(self, name, location):\n",
    "        print(\"{0} : Flying to {1} dircection. [Speed : {2}]\"\\\n",
    "            .format(name, location, self.flying_speed))\n",
    "\n",
    "class FlyableAttackUnit(AttackUnit, Flyable):\n",
    "    def __init__(self, name, hp, damage, flying_speed):\n",
    "        AttackUnit.__init__(self, name, hp, 0, damage)\n",
    "        Flyable.__init__(self, flying_speed)\n",
    "\n",
    "    def move(self, location): # Unit class의 move() 메소드 오버라이딩\n",
    "        # print(\"[공중유닛 이동]\")\n",
    "        self.fly(self.name, location)\n",
    "\n",
    "#레이스 \n",
    "class Wraith(FlyableAttackUnit):\n",
    "    def __init__(self):\n",
    "        FlyableAttackUnit.__init__(self, \"Wraith\", 80, 20, 5)\n",
    "        self.cloaked = False #클로킹\n",
    "\n",
    "    def cloaking(self):\n",
    "        if self.cloaked == True :\n",
    "            print(\"{0} : Change Mode to Normal Mode\".format(self.name))\n",
    "            self.cloaked = False\n",
    "        else:\n",
    "            print(\"{0} : Change Mode to Cloaking Mode\".format(self.name))\n",
    "            self.cloaked = True\n",
    "    \n",
    "def game_start() :\n",
    "    print(\"[Alarm] Game Start\")\n",
    "\n",
    "def game_over() :\n",
    "    print(\"Player : GG\")\n",
    "    print(\"[Player] is Leaving this game.\")\n",
    "\n",
    "\n",
    "game_start()\n",
    "\n",
    "#marin 3 \n",
    "m1 = Marine()\n",
    "m2 = Marine()\n",
    "m3 = Marine()\n",
    "\n",
    "#tank 2\n",
    "t1 = Tank()\n",
    "t2 = Tank()\n",
    "\n",
    "#wraith 1\n",
    "w1 = Wraith()\n",
    "\n",
    "attack_units = []\n",
    "attack_units.append(m1)\n",
    "attack_units.append(m2)\n",
    "attack_units.append(m3)\n",
    "attack_units.append(t1)\n",
    "attack_units.append(t1)\n",
    "attack_units.append(w1)\n",
    "\n",
    "for unit in attack_units:\n",
    "    unit.move(\"1 O'clock\")\n",
    "\n",
    "Tank.siege_developed = True\n",
    "print(\"[Alarm] Tank Seige Mode Was Developed\")\n",
    "\n",
    "# 각 유닛 들이 서로 다른 기술을 사용하기 위해 isinstance(객체, 클래스) 활용\n",
    "# 공격 모드 준비 (마린 : 스팀팩, 탱크 시즈모드, 레이스 : 클로킹)\n",
    "for unit in attack_units:\n",
    "    if isinstance(unit, Marine):\n",
    "        unit.stimpack()\n",
    "    elif isinstance(unit, Tank):\n",
    "        unit.set_seige_mode()\n",
    "    elif isinstance(unit, Wraith):\n",
    "        unit.cloaking()\n",
    "\n",
    "for unit in attack_units:\n",
    "    unit.attack(\"1 O'clock\")\n",
    "\n",
    "for unit in attack_units:\n",
    "    unit.damaged(randint(5, 20))\n",
    "\n",
    "game_over()\n"
   ],
   "outputs": [
    {
     "output_type": "stream",
     "name": "stdout",
     "text": [
      "[Alarm] Game Start\n",
      "Marine Unit Was Created.\n",
      "Marine Unit Was Created.\n",
      "Marine Unit Was Created.\n",
      "Tank Unit Was Created.\n",
      "Tank Unit Was Created.\n",
      "Wraith Unit Was Created.\n",
      "Marine : Move To 1 O'clock Direction. [Speed : 1]\n",
      "Marine : Move To 1 O'clock Direction. [Speed : 1]\n",
      "Marine : Move To 1 O'clock Direction. [Speed : 1]\n",
      "Tank : Move To 1 O'clock Direction. [Speed : 1]\n",
      "Tank : Move To 1 O'clock Direction. [Speed : 1]\n",
      "Wraith : Flying to 1 O'clock dircection. [Speed : 5]\n",
      "[Alarm] Tank Seige Mode Was Developed\n",
      "Marine : Fire Out (- 10 HP)\n",
      "Marine : Fire Out (- 10 HP)\n",
      "Marine : Fire Out (- 10 HP)\n",
      "Wraith : Change Mode to Cloaking Mode\n",
      "Marine : Attack to 1 O'clock Direction. [Damage : 5]\n",
      "Marine : Attack to 1 O'clock Direction. [Damage : 5]\n",
      "Marine : Attack to 1 O'clock Direction. [Damage : 5]\n",
      "Tank : Attack to 1 O'clock Direction. [Damage : 35]\n",
      "Tank : Attack to 1 O'clock Direction. [Damage : 35]\n",
      "Wraith : Attack to 1 O'clock Direction. [Damage : 20]\n",
      "Marine : is Under Attack 6.\n",
      "Marine : 24 Remain HP\n",
      "Marine : is Under Attack 15.\n",
      "Marine : 15 Remain HP\n",
      "Marine : is Under Attack 9.\n",
      "Marine : 21 Remain HP\n",
      "Tank : is Under Attack 12.\n",
      "Tank : 138 Remain HP\n",
      "Tank : is Under Attack 14.\n",
      "Tank : 124 Remain HP\n",
      "Wraith : is Under Attack 19.\n",
      "Wraith : 61 Remain HP\n",
      "Player : GG\n",
      "[Player] is Leaving this game.\n"
     ]
    }
   ],
   "metadata": {}
  },
  {
   "cell_type": "code",
   "execution_count": 229,
   "source": [
    "# 9-12 Quiz!\n",
    "\n",
    "class House :\n",
    "    #매물 초기화 : 위치, 건물 종류, 매물 종류, 가격, 준공년도\n",
    "    def __init__ (self, location, house_type, deal_type, price, completion_year):\n",
    "        self.location = location\n",
    "        self.house_type = house_type\n",
    "        self.deal_type = deal_type\n",
    "        self.price = price\n",
    "        self.completion_year = completion_year\n",
    "\n",
    "    \n",
    "    # 매물 정보 표시\n",
    "    def show_detail(self):\n",
    "        print(\"{0} {1} {2} {3} {4}년\"\\\n",
    "            .format(self.location, self.house_type, self.deal_type, self.price, self.completion_year))\n",
    "\n",
    "d1 = House(\"강남\", \"아파트\", \"매매\", \"10억\", 2010)\n",
    "d2 = House(\"마포\", \"오피스텔\", \"전세\", \"5억\", 2007)\n",
    "d3 = House(\"송파\", \"빌라\", \"월세\", \"500/50\", 2000)\n",
    "\n",
    "deal_total = []\n",
    "deal_total.append(d1)\n",
    "deal_total.append(d2)\n",
    "deal_total.append(d3)\n",
    "\n",
    "print(\"총 {0} 대의 매물이 있습니다.\".format(len(deal_total)))\n",
    "for deal in deal_total:\n",
    "    deal.show_detail()"
   ],
   "outputs": [
    {
     "output_type": "stream",
     "name": "stdout",
     "text": [
      "총 3 대의 매물이 있습니다.\n",
      "강남 아파트 매매 10억 2010년\n",
      "마포 오피스텔 전세 5억 2007년\n",
      "송파 빌라 월세 500/50 2000년\n"
     ]
    }
   ],
   "metadata": {}
  },
  {
   "cell_type": "code",
   "execution_count": 234,
   "source": [
    "#10-1 예외처리\n",
    "\n",
    "try : \n",
    "    print(\"Calculator for Division\")\n",
    "    num1 = int(input(\"First Number : \"))\n",
    "    num2 = int(input(\"Second Number : \"))\n",
    "    print(\"{0}  / {1} = {2}\".format(num1, num2, int(num1/num2)))\n",
    "except ValueError:\n",
    "    print(\"Error!! Wrong Value!\")\n",
    "except ZeroDivisionError as err: # 에러 메시지를 직접 출력\n",
    "    print(err)"
   ],
   "outputs": [
    {
     "output_type": "stream",
     "name": "stdout",
     "text": [
      "Calculator for Division\n",
      "division by zero\n"
     ]
    }
   ],
   "metadata": {}
  },
  {
   "cell_type": "code",
   "execution_count": 235,
   "source": [
    "try:\n",
    "    print(\"나누기 전용 계산기입니다.\")\n",
    "    nums = []\n",
    "    nums.append(int(input(\"첫 번째 숫자를 입력하세요 : \")))\n",
    "    nums.append(int(input(\"두 번째 숫자를 입력하세요 : \")))\n",
    "    # nums.append(int(nums[0] / nums[1])) # 계산 결과를 리스트에 추가\n",
    "    print(\"{0} / {1} = {2}\".format(nums[0], nums[1], nums[2]))\n",
    "except ValueError:\n",
    "    print(\"에러! 잘못된 값을 입력하였습니다.\")\n",
    "except ZeroDivisionError as err:\n",
    "    print(err)\n",
    "except Exception as err: #정의 되지 않은 에러들 처리\n",
    "    print(\"알 수 없는 에러가 발생하였습니다.\")\n",
    "    print(err)"
   ],
   "outputs": [
    {
     "output_type": "stream",
     "name": "stdout",
     "text": [
      "나누기 전용 계산기입니다.\n",
      "알 수 없는 에러가 발생하였습니다.\n",
      "list index out of range\n"
     ]
    }
   ],
   "metadata": {}
  },
  {
   "cell_type": "code",
   "execution_count": 236,
   "source": [
    "#10-2 에러 발생시키기 = raise err\n",
    "\n",
    "try :\n",
    "    print(\"한자리 수 전용 계산기\")\n",
    "    num1 = int(input(\"First Number : \"))\n",
    "    num2 = int(input(\"Second Number : \"))\n",
    "    if num1 >= 10 or num2 >= 10 :\n",
    "        raise ValueError\n",
    "    print(\"{0}  / {1} = {2}\".format(num1, num2, int(num1/num2)))\n",
    "except ValueError: \n",
    "    print(\"Wrong Value, 한자리 숫자만 입력\")"
   ],
   "outputs": [
    {
     "output_type": "stream",
     "name": "stdout",
     "text": [
      "한자리 수 전용 계산기\n",
      "Wrong Value, 한자리 숫자만 입력\n"
     ]
    }
   ],
   "metadata": {}
  },
  {
   "cell_type": "code",
   "execution_count": 239,
   "source": [
    "#10-3 User Defined Exception\n",
    "class BigNumberError(Exception):\n",
    "    #자세한 에러 내용 추가)\n",
    "    def __init__(self, msg):\n",
    "        self.msg = msg\n",
    "    #에러 메시지를 에러 코드와 함께 출력하기 \n",
    "    def __str__(self):\n",
    "        return \"[Error Code 101] \" + self.msg # 에러 메시지 가공\n",
    "\n",
    "try : \n",
    "    print(\"한자리 수 전용 계산기\")\n",
    "    num1 = int(input(\"First Number : \"))\n",
    "    num2 = int(input(\"Second Number : \"))\n",
    "    if num1 >= 10 or num2 >= 10 :\n",
    "        raise BigNumberError(\"입력값 : {0}, {1}\".format(num1, num2))\n",
    "    print(\"{0}  / {1} = {2}\".format(num1, num2, int(num1/num2)))\n",
    "except ValueError: \n",
    "    print(\"Wrong Value, 한자리 숫자만 입력\")\n",
    "except BigNumberError as err:\n",
    "    print(\"Error!! Input Under 10\")\n",
    "    print(err)"
   ],
   "outputs": [
    {
     "output_type": "stream",
     "name": "stdout",
     "text": [
      "한자리 수 전용 계산기\n",
      "Error!! Input Under 10\n",
      "[Error Code 101] 입력값 : 49, 2\n"
     ]
    }
   ],
   "metadata": {}
  },
  {
   "cell_type": "code",
   "execution_count": 243,
   "source": [
    "# 10-4 Finallly\n",
    "class BigNumberError(Exception):\n",
    "    def __init__(self, msg):\n",
    "        self.msg = msg\n",
    "    def __str__(self):\n",
    "        return \"[Error Code 101] \" + self.msg # 에러 메시지 가공\n",
    "\n",
    "try : \n",
    "    print(\"한자리 수 전용 계산기\")\n",
    "    num1 = int(input(\"First Number : \"))\n",
    "    num2 = int(input(\"Second Number : \"))\n",
    "    if num1 >= 10 or num2 >= 10 :\n",
    "        raise BigNumberError(\"입력값 : {0}, {1}\".format(num1, num2))\n",
    "    print(\"{0}  / {1} = {2}\".format(num1, num2, int(num1/num2)))\n",
    "except ValueError: \n",
    "    print(\"Wrong Value, 한자리 숫자만 입력\")\n",
    "except BigNumberError as err:\n",
    "    print(\"Error!! Input Under 10\")\n",
    "    print(err)\n",
    "finally : # 에러 발생 여부와 상관없이 항상! 실행\n",
    "    print(\"Thanks.\")\n"
   ],
   "outputs": [
    {
     "output_type": "stream",
     "name": "stdout",
     "text": [
      "한자리 수 전용 계산기\n",
      "Wrong Value, 한자리 숫자만 입력\n",
      "Thanks.\n"
     ]
    }
   ],
   "metadata": {}
  },
  {
   "cell_type": "code",
   "execution_count": 249,
   "source": [
    "# 10-5 Quiz!\n",
    "\n",
    "class SoldOutError(Exception):\n",
    "    pass\n",
    "\n",
    "chicken = 10 # 남은 치킨 수\n",
    "waiting = 1 # 홀 안에는 현재 만석. 대기번호 1부터 시작\n",
    "\n",
    "while(True):\n",
    "    try: \n",
    "        print(\"[남은 치킨 : {0}]\".format(chicken))\n",
    "        order = int(input(\"치킨 몇 마리 주문하시겠습니까?\"))\n",
    "        if order > chicken: # 남은 치킨보다 주문량이 많을 때\n",
    "            print(\"재료가 부족합니다.\")\n",
    "        elif order <= 0 :\n",
    "            raise ValueError\n",
    "        else:\n",
    "            print(\"[대기번호 {0}] {1} 마리 주문이 완료되었습니다.\".format(waiting, order))\n",
    "            waiting += 1 # 대기번호 증가\n",
    "            chicken -= order # 주문 수 만큼 남은 치킨 감소\n",
    "\n",
    "        if chicken == 0 :\n",
    "            raise SoldOutError \n",
    "    except ValueError :\n",
    "        print(\"Wrong Value. Please check it out.\")\n",
    "    except SoldOutError:\n",
    "        print(\"Soldout!\")\n",
    "        break"
   ],
   "outputs": [
    {
     "output_type": "stream",
     "name": "stdout",
     "text": [
      "[남은 치킨 : 10]\n",
      "[대기번호 1] 4 마리 주문이 완료되었습니다.\n",
      "[남은 치킨 : 6]\n",
      "Wrong Value. Please check it out.\n",
      "[남은 치킨 : 6]\n",
      "[대기번호 2] 2 마리 주문이 완료되었습니다.\n",
      "[남은 치킨 : 4]\n",
      "[대기번호 3] 4 마리 주문이 완료되었습니다.\n",
      "Soldout!\n"
     ]
    }
   ],
   "metadata": {}
  },
  {
   "cell_type": "code",
   "execution_count": null,
   "source": [
    "#11-1 Module\n",
    "\n",
    "def price(people):\n",
    "    print(\"{0} 명 가격은 {1}원 입니다.\".format(people, people * 10000))\n",
    "\n",
    "def price_morning(people):\n",
    "    print(\"{0} 명 조조 할인 가격은 {1} 원입니다.\".format(people, people*6000))\n",
    "\n",
    "def price_soldier(people):\n",
    "    print(\"{0}명 군인 할인 가격은 {1}원 입니다. \".format(people, people * 4000))\n",
    "\n",
    "\n",
    "\n"
   ],
   "outputs": [],
   "metadata": {}
  },
  {
   "cell_type": "code",
   "execution_count": 1,
   "source": [
    "import theater_module\n",
    "theater_module.price(3)\n",
    "theater_module.price_morning(4)\n",
    "theater_module.price_soldier(5)"
   ],
   "outputs": [
    {
     "output_type": "stream",
     "name": "stdout",
     "text": [
      "3 명 가격은 30000원 입니다.\n",
      "4 명 조조 할인 가격은 24000 원입니다.\n",
      "5명 군인 할인 가격은 20000원 입니다. \n"
     ]
    }
   ],
   "metadata": {}
  },
  {
   "cell_type": "code",
   "execution_count": 2,
   "source": [
    "import theater_module as mv\n",
    "\n",
    "mv.price(3)\n",
    "mv.price_soldier(3)\n",
    "mv.price_morning(2)"
   ],
   "outputs": [
    {
     "output_type": "stream",
     "name": "stdout",
     "text": [
      "3 명 가격은 30000원 입니다.\n",
      "3명 군인 할인 가격은 12000원 입니다. \n",
      "2 명 조조 할인 가격은 12000 원입니다.\n"
     ]
    }
   ],
   "metadata": {}
  },
  {
   "cell_type": "code",
   "execution_count": 3,
   "source": [
    "from theater_module import *\n",
    "price(3)\n",
    "price_morning(4)\n",
    "price_soldier(5)"
   ],
   "outputs": [
    {
     "output_type": "stream",
     "name": "stdout",
     "text": [
      "3 명 가격은 30000원 입니다.\n",
      "4 명 조조 할인 가격은 24000 원입니다.\n",
      "5명 군인 할인 가격은 20000원 입니다. \n"
     ]
    }
   ],
   "metadata": {}
  },
  {
   "cell_type": "code",
   "execution_count": 4,
   "source": [
    "from theater_module import price, price_morning\n",
    "price(5)\n",
    "price_morning(5)\n",
    "price_soldier(4)"
   ],
   "outputs": [
    {
     "output_type": "stream",
     "name": "stdout",
     "text": [
      "5 명 가격은 50000원 입니다.\n",
      "5 명 조조 할인 가격은 30000 원입니다.\n",
      "4명 군인 할인 가격은 16000원 입니다. \n"
     ]
    }
   ],
   "metadata": {}
  },
  {
   "cell_type": "code",
   "execution_count": 1,
   "source": [
    "#11 - 5 패키지 모듈\n",
    "import inspect\n",
    "import random\n",
    "\n",
    "print(inspect.getfile(random)) # random 모듈 위치"
   ],
   "outputs": [
    {
     "output_type": "stream",
     "name": "stdout",
     "text": [
      "/Library/Frameworks/Python.framework/Versions/3.9/lib/python3.9/random.py\n"
     ]
    }
   ],
   "metadata": {}
  },
  {
   "cell_type": "code",
   "execution_count": 3,
   "source": [
    "import inspect\n",
    "from travel import *\n",
    "print(inspect.getfile(thailand)) # thailand 모듈의 위치"
   ],
   "outputs": [
    {
     "output_type": "stream",
     "name": "stdout",
     "text": [
      "Thailand 외부에서 모듈 호출\n",
      "[태국 패키지 3박 5일] 방콕, 파타야 여행 (야시장 투어) 50만원\n",
      "/Users/bh_chae/hello_world/Hello_Python/travel/thailand.py\n"
     ]
    }
   ],
   "metadata": {}
  },
  {
   "cell_type": "code",
   "execution_count": 4,
   "source": [
    "pip install beautifulsoup4"
   ],
   "outputs": [
    {
     "output_type": "stream",
     "name": "stdout",
     "text": [
      "Collecting beautifulsoup4\n",
      "  Downloading beautifulsoup4-4.10.0-py3-none-any.whl (97 kB)\n",
      "\u001b[K     |████████████████████████████████| 97 kB 3.2 MB/s \n",
      "\u001b[?25hCollecting soupsieve>1.2\n",
      "  Downloading soupsieve-2.2.1-py3-none-any.whl (33 kB)\n",
      "Installing collected packages: soupsieve, beautifulsoup4\n",
      "Successfully installed beautifulsoup4-4.10.0 soupsieve-2.2.1\n",
      "\u001b[33mWARNING: You are using pip version 21.2.3; however, version 21.3 is available.\n",
      "You should consider upgrading via the '/usr/local/bin/python3 -m pip install --upgrade pip' command.\u001b[0m\n",
      "Note: you may need to restart the kernel to use updated packages.\n"
     ]
    }
   ],
   "metadata": {}
  },
  {
   "cell_type": "code",
   "execution_count": 5,
   "source": [
    "from bs4 import BeautifulSoup\n",
    "soup = BeautifulSoup(\"<p>Some<b>bad<i>HTML\")\n",
    "print(soup.prettify())"
   ],
   "outputs": [
    {
     "output_type": "stream",
     "name": "stdout",
     "text": [
      "<p>\n",
      " Some\n",
      " <b>\n",
      "  bad\n",
      "  <i>\n",
      "   HTML\n",
      "  </i>\n",
      " </b>\n",
      "</p>\n"
     ]
    }
   ],
   "metadata": {}
  },
  {
   "cell_type": "code",
   "execution_count": 7,
   "source": [
    "language = input(\"무슨 언어를 좋아하세요? \")\n",
    "print(\"{0}은 아주 좋은 언어입니다!\".format(language))"
   ],
   "outputs": [
    {
     "output_type": "stream",
     "name": "stdout",
     "text": [
      "은 아주 좋은 언어입니다!\n"
     ]
    }
   ],
   "metadata": {}
  },
  {
   "cell_type": "code",
   "execution_count": 8,
   "source": [
    "print(dir())"
   ],
   "outputs": [
    {
     "output_type": "stream",
     "name": "stdout",
     "text": [
      "['BeautifulSoup', 'In', 'Out', '_', '_VSCODE_builtins', '_VSCODE_getVariableInfo', '_VSCODE_getVariableProperties', '_VSCODE_getVariableTypes', '_VSCODE_json', '__', '___', '__builtin__', '__builtins__', '__doc__', '__loader__', '__name__', '__package__', '__spec__', '_dh', '_exit_code', '_i', '_i1', '_i2', '_i3', '_i4', '_i5', '_i6', '_i7', '_i8', '_ih', '_ii', '_iii', '_oh', '_rwho_ls', 'exit', 'get_ipython', 'inspect', 'language', 'os', 'quit', 'random', 'soup', 'sys', 'thailand', 'vietnam']\n"
     ]
    }
   ],
   "metadata": {}
  },
  {
   "cell_type": "code",
   "execution_count": 9,
   "source": [
    "import random \n",
    "print(dir())"
   ],
   "outputs": [
    {
     "output_type": "stream",
     "name": "stdout",
     "text": [
      "['BeautifulSoup', 'In', 'Out', '_', '_VSCODE_builtins', '_VSCODE_getVariableInfo', '_VSCODE_getVariableProperties', '_VSCODE_getVariableTypes', '_VSCODE_json', '__', '___', '__builtin__', '__builtins__', '__doc__', '__loader__', '__name__', '__package__', '__spec__', '_dh', '_exit_code', '_i', '_i1', '_i2', '_i3', '_i4', '_i5', '_i6', '_i7', '_i8', '_i9', '_ih', '_ii', '_iii', '_oh', '_rwho_ls', 'exit', 'get_ipython', 'inspect', 'language', 'os', 'quit', 'random', 'soup', 'sys', 'thailand', 'vietnam']\n"
     ]
    }
   ],
   "metadata": {}
  },
  {
   "cell_type": "code",
   "execution_count": 10,
   "source": [
    "lst = [1,2,3]\n",
    "print(dir(lst))"
   ],
   "outputs": [
    {
     "output_type": "stream",
     "name": "stdout",
     "text": [
      "['__add__', '__class__', '__class_getitem__', '__contains__', '__delattr__', '__delitem__', '__dir__', '__doc__', '__eq__', '__format__', '__ge__', '__getattribute__', '__getitem__', '__gt__', '__hash__', '__iadd__', '__imul__', '__init__', '__init_subclass__', '__iter__', '__le__', '__len__', '__lt__', '__mul__', '__ne__', '__new__', '__reduce__', '__reduce_ex__', '__repr__', '__reversed__', '__rmul__', '__setattr__', '__setitem__', '__sizeof__', '__str__', '__subclasshook__', 'append', 'clear', 'copy', 'count', 'extend', 'index', 'insert', 'pop', 'remove', 'reverse', 'sort']\n"
     ]
    }
   ],
   "metadata": {}
  },
  {
   "cell_type": "code",
   "execution_count": 13,
   "source": [
    "#11-8 외장 함수\n",
    "\n",
    "import os\n",
    "\n",
    "folder = \"sample_dir\"\n",
    "\n",
    "if os.path.exists(folder):\n",
    "    print(\"이미 존재하는 폴더입니다.\")\n",
    "    os.rmdir(folder) # 폴더 삭제\n",
    "    print(folder, \"폴더를 삭제하였습니다.\") # 삭제 문구 출력\n",
    "else:\n",
    "    os.makedirs(folder)\n",
    "    print(folder, \"폴더를 생성하였습니다.\")\n",
    "    "
   ],
   "outputs": [
    {
     "output_type": "stream",
     "name": "stdout",
     "text": [
      "이미 존재하는 폴더입니다.\n",
      "sample_dir 폴더를 삭제하였습니다.\n"
     ]
    }
   ],
   "metadata": {}
  },
  {
   "cell_type": "code",
   "execution_count": 14,
   "source": [
    "import time\n",
    "print(time.strftime(\"%Y-%m-%d %H:%M:%S\")) # 연-월-일 시:분:초"
   ],
   "outputs": [
    {
     "output_type": "stream",
     "name": "stdout",
     "text": [
      "2021-10-12 23:55:40\n"
     ]
    }
   ],
   "metadata": {}
  },
  {
   "cell_type": "code",
   "execution_count": 15,
   "source": [
    "import datetime\n",
    "today = datetime.date.today() # 오늘 날짜 저장\n",
    "td = datetime.timedelta(days=100) # 100일 저장\n",
    "print(\"우리가 만난지 100일은\", today + td) # 오늘부터 100일 후"
   ],
   "outputs": [
    {
     "output_type": "stream",
     "name": "stdout",
     "text": [
      "우리가 만난지 100일은 2022-01-20\n"
     ]
    }
   ],
   "metadata": {}
  },
  {
   "cell_type": "code",
   "execution_count": 16,
   "source": [
    "import byme\n",
    "byme.sign()"
   ],
   "outputs": [
    {
     "output_type": "stream",
     "name": "stdout",
     "text": [
      "이 프로그램은 나도코딩에 의해 만들어 졌습니다.\n",
      "유튜브 : https://youtube.com\n",
      "이메일 : bhcha@tmail.com\n"
     ]
    }
   ],
   "metadata": {}
  },
  {
   "cell_type": "code",
   "execution_count": null,
   "source": [],
   "outputs": [],
   "metadata": {}
  }
 ],
 "metadata": {
  "kernelspec": {
   "name": "python3",
   "display_name": "Python 3.9.7 64-bit"
  },
  "language_info": {
   "codemirror_mode": {
    "name": "ipython",
    "version": 3
   },
   "file_extension": ".py",
   "mimetype": "text/x-python",
   "name": "python",
   "nbconvert_exporter": "python",
   "pygments_lexer": "ipython3",
   "version": "3.9.7"
  },
  "metadata": {
   "interpreter": {
    "hash": "aee8b7b246df8f9039afb4144a1f6fd8d2ca17a180786b69acc140d282b71a49"
   }
  },
  "orig_nbformat": 2,
  "interpreter": {
   "hash": "aee8b7b246df8f9039afb4144a1f6fd8d2ca17a180786b69acc140d282b71a49"
  }
 },
 "nbformat": 4,
 "nbformat_minor": 2
}