{
 "cells": [
  {
   "cell_type": "code",
   "execution_count": 2,
   "metadata": {},
   "outputs": [
    {
     "name": "stdout",
     "output_type": "stream",
     "text": [
      "hellow world\n",
      "False\n"
     ]
    }
   ],
   "source": [
    "print('hellow world')\n",
    "print(5==1)"
   ]
  },
  {
   "cell_type": "code",
   "execution_count": 5,
   "metadata": {},
   "outputs": [
    {
     "name": "stdout",
     "output_type": "stream",
     "text": [
      "우리집4강아지이름연탄이\n"
     ]
    }
   ],
   "source": [
    "name = \"연탄이\"\n",
    "animal = \"강아지\"\n",
    "age = 4\n",
    "hobby = \"산책\"\n",
    "is_adult = age >= 3\n",
    "\n",
    "print('우리집'+ str(age) + animal + '이름' + name)"
   ]
  },
  {
   "cell_type": "code",
   "execution_count": 6,
   "metadata": {},
   "outputs": [
    {
     "name": "stdout",
     "output_type": "stream",
     "text": [
      "사당 행 열차가 들어오고 있습니당\n"
     ]
    }
   ],
   "source": [
    "station = '사당'\n",
    "print(station, '행 열차가 들어오고 있습니당')"
   ]
  },
  {
   "cell_type": "code",
   "execution_count": 1,
   "metadata": {},
   "outputs": [
    {
     "name": "stdout",
     "output_type": "stream",
     "text": [
      "유재석\n"
     ]
    }
   ],
   "source": [
    "cabinet = {3: \"유재석\",  1000: \"김기봉\"}\n",
    "\n",
    "print(cabinet.get(3, \"사용가능\"))"
   ]
  },
  {
   "cell_type": "code",
   "execution_count": 2,
   "metadata": {},
   "outputs": [
    {
     "name": "stdout",
     "output_type": "stream",
     "text": [
      "True\n"
     ]
    }
   ],
   "source": [
    "print (3 in cabinet)"
   ]
  },
  {
   "cell_type": "code",
   "execution_count": 3,
   "metadata": {},
   "outputs": [
    {
     "name": "stdout",
     "output_type": "stream",
     "text": [
      "유재석\n",
      "김태호\n"
     ]
    }
   ],
   "source": [
    "# key 는 정수형이 아닌 문자열도 가능\n",
    "cabinet = {\"A-3\": \"유재석\", \"B-100\": \"김태호\"}\n",
    "print(cabinet[\"A-3\"]) # 유재석\n",
    "print(cabinet[\"B-100\"]) # 김태호"
   ]
  },
  {
   "cell_type": "code",
   "execution_count": 4,
   "metadata": {},
   "outputs": [
    {
     "name": "stdout",
     "output_type": "stream",
     "text": [
      "{'A-3': '유재석', 'B-100': '김태호'}\n",
      "{'A-3': '김종국', 'B-100': '김태호', 'C-20': '조세호'}\n"
     ]
    }
   ],
   "source": [
    "print(cabinet) # {'A-3': '유재석', 'B-100': '김태호'}\n",
    "cabinet[\"A-3\"] = \"김종국\" # key 에 해당하는 값이 있는 경우 업데이트\n",
    "cabinet[\"C-20\"] = \"조세호\" # key 에 해당하는 값이 없는 경우 신규 추가\n",
    "print(cabinet) # {'A-3': '김종국', 'B-100': '김태호', 'C-20': '조세호'}"
   ]
  },
  {
   "cell_type": "code",
   "execution_count": 5,
   "metadata": {},
   "outputs": [
    {
     "name": "stdout",
     "output_type": "stream",
     "text": [
      "{'B-100': '김태호', 'C-20': '조세호'}\n"
     ]
    }
   ],
   "source": [
    "del cabinet[\"A-3\"] # key \"A-3\" 에 해당하는 데이터 삭제\n",
    "print(cabinet) # {'B-100': '김태호', 'C-20': '조세호'}"
   ]
  },
  {
   "cell_type": "code",
   "execution_count": 6,
   "metadata": {},
   "outputs": [
    {
     "name": "stdout",
     "output_type": "stream",
     "text": [
      "dict_keys(['B-100', 'C-20'])\n"
     ]
    }
   ],
   "source": [
    "print(cabinet.keys()) # dict_keys(['B-100', 'C-20'])\n"
   ]
  },
  {
   "cell_type": "code",
   "execution_count": 7,
   "metadata": {},
   "outputs": [
    {
     "name": "stdout",
     "output_type": "stream",
     "text": [
      "dict_items([('B-100', '김태호'), ('C-20', '조세호')])\n"
     ]
    }
   ],
   "source": [
    "print(cabinet.items()) # dict_items([('B-100', '김태호'), ('C-20', '조세호')])\n"
   ]
  },
  {
   "cell_type": "code",
   "execution_count": 8,
   "metadata": {},
   "outputs": [
    {
     "name": "stdout",
     "output_type": "stream",
     "text": [
      "{}\n"
     ]
    }
   ],
   "source": [
    "cabinet.clear()\n",
    "print(cabinet) # {}"
   ]
  },
  {
   "cell_type": "code",
   "execution_count": null,
   "metadata": {},
   "outputs": [],
   "source": []
  }
 ],
 "metadata": {
  "kernelspec": {
   "display_name": "Python 3.9.7 64-bit",
   "name": "python397jvsc74a57bd0aee8b7b246df8f9039afb4144a1f6fd8d2ca17a180786b69acc140d282b71a49"
  },
  "language_info": {
   "codemirror_mode": {
    "name": "ipython",
    "version": 3
   },
   "file_extension": ".py",
   "mimetype": "text/x-python",
   "name": "python",
   "nbconvert_exporter": "python",
   "pygments_lexer": "ipython3",
   "version": "3.9.7"
  },
  "metadata": {
   "interpreter": {
    "hash": "aee8b7b246df8f9039afb4144a1f6fd8d2ca17a180786b69acc140d282b71a49"
   }
  },
  "orig_nbformat": 2
 },
 "nbformat": 4,
 "nbformat_minor": 2
}